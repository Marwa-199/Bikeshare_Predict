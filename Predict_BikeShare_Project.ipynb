{
  "nbformat": 4,
  "nbformat_minor": 0,
  "metadata": {
    "colab": {
      "provenance": [],
      "collapsed_sections": [],
      "include_colab_link": true
    },
    "kernelspec": {
      "name": "python3",
      "display_name": "Python 3"
    },
    "language_info": {
      "name": "python"
    }
  },
  "cells": [
    {
      "cell_type": "markdown",
      "metadata": {
        "id": "view-in-github",
        "colab_type": "text"
      },
      "source": [
        "<a href=\"https://colab.research.google.com/github/Marwa-199/Bikeshare_Predict/blob/main/Predict_BikeShare_Project.ipynb\" target=\"_parent\"><img src=\"https://colab.research.google.com/assets/colab-badge.svg\" alt=\"Open In Colab\"/></a>"
      ]
    },
    {
      "cell_type": "markdown",
      "metadata": {
        "id": "nayh7OBNC4Ws"
      },
      "source": [
        "# Predict Bike Sharing Demand with AutoGluon Template"
      ]
    },
    {
      "cell_type": "markdown",
      "metadata": {
        "id": "dgEvLAyHC4XL"
      },
      "source": [
        "## Project: Predict Bike Sharing Demand with AutoGluon\n",
        "This notebook is a template with each step that you need to complete for the project.\n",
        "\n",
        "Please fill in your code where there are explicit `?` markers in the notebook. You are welcome to add more cells and code as you see fit.\n",
        "\n",
        "Once you have completed all the code implementations, please export your notebook as a HTML file so the reviews can view your code. Make sure you have all outputs correctly outputted.\n",
        "\n",
        "`File-> Export Notebook As... -> Export Notebook as HTML`\n",
        "\n",
        "There is a writeup to complete as well after all code implememtation is done. Please answer all questions and attach the necessary tables and charts. You can complete the writeup in either markdown or PDF.\n",
        "\n",
        "Completing the code template and writeup template will cover all of the rubric points for this project.\n",
        "\n",
        "The rubric contains \"Stand Out Suggestions\" for enhancing the project beyond the minimum requirements. The stand out suggestions are optional. If you decide to pursue the \"stand out suggestions\", you can include the code in this notebook and also discuss the results in the writeup file."
      ]
    },
    {
      "cell_type": "markdown",
      "metadata": {
        "id": "y2UvjV24C4XL"
      },
      "source": [
        "## Step 1: Create an account with Kaggle"
      ]
    },
    {
      "cell_type": "markdown",
      "metadata": {
        "id": "wZDdzliAC4XL"
      },
      "source": [
        "### Create Kaggle Account and download API key\n",
        "Below is example of steps to get the API username and key. Each student will have their own username and key."
      ]
    },
    {
      "cell_type": "markdown",
      "metadata": {
        "id": "Pz5_P9DSC4XL"
      },
      "source": [
        "1. Open account settings.\n",
        "![kaggle1.png](attachment:kaggle1.png)\n",
        "![kaggle2.png](attachment:kaggle2.png)\n",
        "2. Scroll down to API and click Create New API Token.\n",
        "![kaggle3.png](attachment:kaggle3.png)\n",
        "![kaggle4.png](attachment:kaggle4.png)\n",
        "3. Open up `kaggle.json` and use the username and key.\n",
        "![kaggle5.png](attachment:kaggle5.png)"
      ]
    },
    {
      "cell_type": "markdown",
      "metadata": {
        "tags": [],
        "id": "zrp4TYfIC4XL"
      },
      "source": [
        "## Step 2: Download the Kaggle dataset using the kaggle python library"
      ]
    },
    {
      "cell_type": "markdown",
      "metadata": {
        "id": "BiuWB3KKC4Xb"
      },
      "source": [
        "### Open up Sagemaker Studio and use starter template"
      ]
    },
    {
      "cell_type": "markdown",
      "metadata": {
        "id": "WWEx5o6ZC4Xb"
      },
      "source": [
        "1. Notebook should be using a `ml.t3.medium` instance (2 vCPU + 4 GiB)\n",
        "2. Notebook should be using kernal: `Python 3 (MXNet 1.8 Python 3.7 CPU Optimized)`"
      ]
    },
    {
      "cell_type": "markdown",
      "metadata": {
        "id": "xaIi8XIyC4Xb"
      },
      "source": [
        "### Install packages"
      ]
    },
    {
      "cell_type": "code",
      "metadata": {
        "id": "kbHRfwu_CTJP"
      },
      "source": [
        "!pip install --upgrade mxnet\n",
        "!pip install autogluon"
      ],
      "execution_count": null,
      "outputs": []
    },
    {
      "cell_type": "code",
      "metadata": {
        "id": "8ZZN307DAnqn"
      },
      "source": [
        "import autogluon as ag\n",
        "import pandas as pd\n",
        "import numpy as np\n",
        "import os,urllib\n",
        "%matplotlib inline"
      ],
      "execution_count": null,
      "outputs": []
    },
    {
      "cell_type": "code",
      "metadata": {
        "id": "v8wG9E2WFnL7"
      },
      "source": [
        "from autogluon.tabular import TabularPredictor \n",
        "from datetime import datetime"
      ],
      "execution_count": null,
      "outputs": []
    },
    {
      "cell_type": "markdown",
      "metadata": {
        "id": "FS9U_gpGC4Xq"
      },
      "source": [
        "### Setup Kaggle API Key"
      ]
    },
    {
      "cell_type": "code",
      "execution_count": null,
      "metadata": {
        "id": "I7FLa7jhC4Xq"
      },
      "outputs": [],
      "source": [
        "# create the .kaggle directory and an empty kaggle.json file\n",
        "!mkdir -p /root/.kaggle\n",
        "!touch /root/.kaggle/kaggle.json\n",
        "!chmod 600 /root/.kaggle/kaggle.json"
      ]
    },
    {
      "cell_type": "code",
      "execution_count": null,
      "metadata": {
        "id": "R-3cK496C4Xq"
      },
      "outputs": [],
      "source": [
        "# Fill in your user name and key from creating the kaggle account and API token file\n",
        "import json\n",
        "kaggle_username = \"marwaal\"\n",
        "kaggle_key = \"f9062ab3925108f9af4beb3067bf68e1\"\n",
        "\n",
        "# Save API token the kaggle.json file\n",
        "with open(\"/root/.kaggle/kaggle.json\", \"w\") as f:\n",
        "    f.write(json.dumps({\"username\": kaggle_username, \"key\": kaggle_key}))"
      ]
    },
    {
      "cell_type": "markdown",
      "metadata": {
        "tags": [],
        "id": "9cMl8HRyC4Xq"
      },
      "source": [
        "### Download and explore dataset"
      ]
    },
    {
      "cell_type": "markdown",
      "metadata": {
        "tags": [],
        "id": "bLJsOnoqC4Xq"
      },
      "source": [
        "### Go to the bike sharing demand competition and agree to the terms\n",
        "![kaggle6.png](attachment:kaggle6.png)"
      ]
    },
    {
      "cell_type": "code",
      "execution_count": null,
      "metadata": {
        "id": "_GCN2UkYC4Xq"
      },
      "outputs": [],
      "source": [
        "# Download the dataset, it will be in a .zip file so you'll need to unzip it as well.\n",
        "#!kaggle competitions download -c bike-sharing-demand.zip\n",
        "# If you already downloaded it you can use the -o command to overwrite the file\n",
        "#!unzip -o bike-sharing-demand.zip"
      ]
    },
    {
      "cell_type": "code",
      "execution_count": null,
      "metadata": {
        "colab": {
          "base_uri": "https://localhost:8080/",
          "height": 142
        },
        "id": "Bx52KThDC4X9",
        "outputId": "94f6b070-bf09-46ee-ac9d-af637b9a82bf"
      },
      "outputs": [
        {
          "output_type": "execute_result",
          "data": {
            "text/plain": [
              "             datetime  season  holiday  workingday  weather  temp   atemp  \\\n",
              "0 2011-01-01 00:00:00       1        0           0        1  9.84  14.395   \n",
              "1 2011-01-01 01:00:00       1        0           0        1  9.02  13.635   \n",
              "2 2011-01-01 02:00:00       1        0           0        1  9.02  13.635   \n",
              "\n",
              "   humidity  windspeed  casual  registered  count  \n",
              "0        81        0.0       3          13     16  \n",
              "1        80        0.0       8          32     40  \n",
              "2        80        0.0       5          27     32  "
            ],
            "text/html": [
              "\n",
              "  <div id=\"df-21a1f44e-eb7a-4f8f-afaf-4058bccbe291\">\n",
              "    <div class=\"colab-df-container\">\n",
              "      <div>\n",
              "<style scoped>\n",
              "    .dataframe tbody tr th:only-of-type {\n",
              "        vertical-align: middle;\n",
              "    }\n",
              "\n",
              "    .dataframe tbody tr th {\n",
              "        vertical-align: top;\n",
              "    }\n",
              "\n",
              "    .dataframe thead th {\n",
              "        text-align: right;\n",
              "    }\n",
              "</style>\n",
              "<table border=\"1\" class=\"dataframe\">\n",
              "  <thead>\n",
              "    <tr style=\"text-align: right;\">\n",
              "      <th></th>\n",
              "      <th>datetime</th>\n",
              "      <th>season</th>\n",
              "      <th>holiday</th>\n",
              "      <th>workingday</th>\n",
              "      <th>weather</th>\n",
              "      <th>temp</th>\n",
              "      <th>atemp</th>\n",
              "      <th>humidity</th>\n",
              "      <th>windspeed</th>\n",
              "      <th>casual</th>\n",
              "      <th>registered</th>\n",
              "      <th>count</th>\n",
              "    </tr>\n",
              "  </thead>\n",
              "  <tbody>\n",
              "    <tr>\n",
              "      <th>0</th>\n",
              "      <td>2011-01-01 00:00:00</td>\n",
              "      <td>1</td>\n",
              "      <td>0</td>\n",
              "      <td>0</td>\n",
              "      <td>1</td>\n",
              "      <td>9.84</td>\n",
              "      <td>14.395</td>\n",
              "      <td>81</td>\n",
              "      <td>0.0</td>\n",
              "      <td>3</td>\n",
              "      <td>13</td>\n",
              "      <td>16</td>\n",
              "    </tr>\n",
              "    <tr>\n",
              "      <th>1</th>\n",
              "      <td>2011-01-01 01:00:00</td>\n",
              "      <td>1</td>\n",
              "      <td>0</td>\n",
              "      <td>0</td>\n",
              "      <td>1</td>\n",
              "      <td>9.02</td>\n",
              "      <td>13.635</td>\n",
              "      <td>80</td>\n",
              "      <td>0.0</td>\n",
              "      <td>8</td>\n",
              "      <td>32</td>\n",
              "      <td>40</td>\n",
              "    </tr>\n",
              "    <tr>\n",
              "      <th>2</th>\n",
              "      <td>2011-01-01 02:00:00</td>\n",
              "      <td>1</td>\n",
              "      <td>0</td>\n",
              "      <td>0</td>\n",
              "      <td>1</td>\n",
              "      <td>9.02</td>\n",
              "      <td>13.635</td>\n",
              "      <td>80</td>\n",
              "      <td>0.0</td>\n",
              "      <td>5</td>\n",
              "      <td>27</td>\n",
              "      <td>32</td>\n",
              "    </tr>\n",
              "  </tbody>\n",
              "</table>\n",
              "</div>\n",
              "      <button class=\"colab-df-convert\" onclick=\"convertToInteractive('df-21a1f44e-eb7a-4f8f-afaf-4058bccbe291')\"\n",
              "              title=\"Convert this dataframe to an interactive table.\"\n",
              "              style=\"display:none;\">\n",
              "        \n",
              "  <svg xmlns=\"http://www.w3.org/2000/svg\" height=\"24px\"viewBox=\"0 0 24 24\"\n",
              "       width=\"24px\">\n",
              "    <path d=\"M0 0h24v24H0V0z\" fill=\"none\"/>\n",
              "    <path d=\"M18.56 5.44l.94 2.06.94-2.06 2.06-.94-2.06-.94-.94-2.06-.94 2.06-2.06.94zm-11 1L8.5 8.5l.94-2.06 2.06-.94-2.06-.94L8.5 2.5l-.94 2.06-2.06.94zm10 10l.94 2.06.94-2.06 2.06-.94-2.06-.94-.94-2.06-.94 2.06-2.06.94z\"/><path d=\"M17.41 7.96l-1.37-1.37c-.4-.4-.92-.59-1.43-.59-.52 0-1.04.2-1.43.59L10.3 9.45l-7.72 7.72c-.78.78-.78 2.05 0 2.83L4 21.41c.39.39.9.59 1.41.59.51 0 1.02-.2 1.41-.59l7.78-7.78 2.81-2.81c.8-.78.8-2.07 0-2.86zM5.41 20L4 18.59l7.72-7.72 1.47 1.35L5.41 20z\"/>\n",
              "  </svg>\n",
              "      </button>\n",
              "      \n",
              "  <style>\n",
              "    .colab-df-container {\n",
              "      display:flex;\n",
              "      flex-wrap:wrap;\n",
              "      gap: 12px;\n",
              "    }\n",
              "\n",
              "    .colab-df-convert {\n",
              "      background-color: #E8F0FE;\n",
              "      border: none;\n",
              "      border-radius: 50%;\n",
              "      cursor: pointer;\n",
              "      display: none;\n",
              "      fill: #1967D2;\n",
              "      height: 32px;\n",
              "      padding: 0 0 0 0;\n",
              "      width: 32px;\n",
              "    }\n",
              "\n",
              "    .colab-df-convert:hover {\n",
              "      background-color: #E2EBFA;\n",
              "      box-shadow: 0px 1px 2px rgba(60, 64, 67, 0.3), 0px 1px 3px 1px rgba(60, 64, 67, 0.15);\n",
              "      fill: #174EA6;\n",
              "    }\n",
              "\n",
              "    [theme=dark] .colab-df-convert {\n",
              "      background-color: #3B4455;\n",
              "      fill: #D2E3FC;\n",
              "    }\n",
              "\n",
              "    [theme=dark] .colab-df-convert:hover {\n",
              "      background-color: #434B5C;\n",
              "      box-shadow: 0px 1px 3px 1px rgba(0, 0, 0, 0.15);\n",
              "      filter: drop-shadow(0px 1px 2px rgba(0, 0, 0, 0.3));\n",
              "      fill: #FFFFFF;\n",
              "    }\n",
              "  </style>\n",
              "\n",
              "      <script>\n",
              "        const buttonEl =\n",
              "          document.querySelector('#df-21a1f44e-eb7a-4f8f-afaf-4058bccbe291 button.colab-df-convert');\n",
              "        buttonEl.style.display =\n",
              "          google.colab.kernel.accessAllowed ? 'block' : 'none';\n",
              "\n",
              "        async function convertToInteractive(key) {\n",
              "          const element = document.querySelector('#df-21a1f44e-eb7a-4f8f-afaf-4058bccbe291');\n",
              "          const dataTable =\n",
              "            await google.colab.kernel.invokeFunction('convertToInteractive',\n",
              "                                                     [key], {});\n",
              "          if (!dataTable) return;\n",
              "\n",
              "          const docLinkHtml = 'Like what you see? Visit the ' +\n",
              "            '<a target=\"_blank\" href=https://colab.research.google.com/notebooks/data_table.ipynb>data table notebook</a>'\n",
              "            + ' to learn more about interactive tables.';\n",
              "          element.innerHTML = '';\n",
              "          dataTable['output_type'] = 'display_data';\n",
              "          await google.colab.output.renderOutput(dataTable, element);\n",
              "          const docLink = document.createElement('div');\n",
              "          docLink.innerHTML = docLinkHtml;\n",
              "          element.appendChild(docLink);\n",
              "        }\n",
              "      </script>\n",
              "    </div>\n",
              "  </div>\n",
              "  "
            ]
          },
          "metadata": {},
          "execution_count": 9
        }
      ],
      "source": [
        "# Create the train dataset in pandas by reading the csv\n",
        "# Set the parsing of the datetime column so you can use some of the `dt` features in pandas later\n",
        "train = pd.read_csv('train.csv',parse_dates=['datetime'])\n",
        "train.head(3)"
      ]
    },
    {
      "cell_type": "code",
      "source": [
        "# check null values \n",
        "train.isna().sum()"
      ],
      "metadata": {
        "colab": {
          "base_uri": "https://localhost:8080/"
        },
        "id": "_bMcW3awMTCi",
        "outputId": "cda3e6c9-66ae-4849-a6be-9e3036f0dc05"
      },
      "execution_count": null,
      "outputs": [
        {
          "output_type": "execute_result",
          "data": {
            "text/plain": [
              "datetime      0\n",
              "season        0\n",
              "holiday       0\n",
              "workingday    0\n",
              "weather       0\n",
              "temp          0\n",
              "atemp         0\n",
              "humidity      0\n",
              "windspeed     0\n",
              "casual        0\n",
              "registered    0\n",
              "count         0\n",
              "dtype: int64"
            ]
          },
          "metadata": {},
          "execution_count": 10
        }
      ]
    },
    {
      "cell_type": "code",
      "source": [
        "# check duplicates \n",
        "train.duplicated().sum()"
      ],
      "metadata": {
        "colab": {
          "base_uri": "https://localhost:8080/"
        },
        "id": "s3qcKNFHQ4z1",
        "outputId": "e30b37f1-5153-4bdb-be05-2f7356555700"
      },
      "execution_count": null,
      "outputs": [
        {
          "output_type": "execute_result",
          "data": {
            "text/plain": [
              "0"
            ]
          },
          "metadata": {},
          "execution_count": 11
        }
      ]
    },
    {
      "cell_type": "code",
      "source": [
        "# check the data types of datetime\n",
        "train.info()"
      ],
      "metadata": {
        "colab": {
          "base_uri": "https://localhost:8080/"
        },
        "id": "SqZyTKRVJaqu",
        "outputId": "191ee43a-0bb0-4c3e-886a-df89e3017074"
      },
      "execution_count": null,
      "outputs": [
        {
          "output_type": "stream",
          "name": "stdout",
          "text": [
            "<class 'pandas.core.frame.DataFrame'>\n",
            "RangeIndex: 10886 entries, 0 to 10885\n",
            "Data columns (total 12 columns):\n",
            " #   Column      Non-Null Count  Dtype         \n",
            "---  ------      --------------  -----         \n",
            " 0   datetime    10886 non-null  datetime64[ns]\n",
            " 1   season      10886 non-null  int64         \n",
            " 2   holiday     10886 non-null  int64         \n",
            " 3   workingday  10886 non-null  int64         \n",
            " 4   weather     10886 non-null  int64         \n",
            " 5   temp        10886 non-null  float64       \n",
            " 6   atemp       10886 non-null  float64       \n",
            " 7   humidity    10886 non-null  int64         \n",
            " 8   windspeed   10886 non-null  float64       \n",
            " 9   casual      10886 non-null  int64         \n",
            " 10  registered  10886 non-null  int64         \n",
            " 11  count       10886 non-null  int64         \n",
            "dtypes: datetime64[ns](1), float64(3), int64(8)\n",
            "memory usage: 1020.7 KB\n"
          ]
        }
      ]
    },
    {
      "cell_type": "code",
      "execution_count": null,
      "metadata": {
        "colab": {
          "base_uri": "https://localhost:8080/",
          "height": 361
        },
        "id": "0lfWkR3TC4X-",
        "outputId": "54871290-2a0b-4898-9adb-cc6775396bb2"
      },
      "outputs": [
        {
          "output_type": "execute_result",
          "data": {
            "text/plain": [
              "             season       holiday    workingday       weather         temp  \\\n",
              "count  10886.000000  10886.000000  10886.000000  10886.000000  10886.00000   \n",
              "mean       2.506614      0.028569      0.680875      1.418427     20.23086   \n",
              "std        1.116174      0.166599      0.466159      0.633839      7.79159   \n",
              "min        1.000000      0.000000      0.000000      1.000000      0.82000   \n",
              "25%        2.000000      0.000000      0.000000      1.000000     13.94000   \n",
              "50%        3.000000      0.000000      1.000000      1.000000     20.50000   \n",
              "75%        4.000000      0.000000      1.000000      2.000000     26.24000   \n",
              "max        4.000000      1.000000      1.000000      4.000000     41.00000   \n",
              "\n",
              "              atemp      humidity     windspeed        casual    registered  \\\n",
              "count  10886.000000  10886.000000  10886.000000  10886.000000  10886.000000   \n",
              "mean      23.655084     61.886460     12.799395     36.021955    155.552177   \n",
              "std        8.474601     19.245033      8.164537     49.960477    151.039033   \n",
              "min        0.760000      0.000000      0.000000      0.000000      0.000000   \n",
              "25%       16.665000     47.000000      7.001500      4.000000     36.000000   \n",
              "50%       24.240000     62.000000     12.998000     17.000000    118.000000   \n",
              "75%       31.060000     77.000000     16.997900     49.000000    222.000000   \n",
              "max       45.455000    100.000000     56.996900    367.000000    886.000000   \n",
              "\n",
              "              count  \n",
              "count  10886.000000  \n",
              "mean     191.574132  \n",
              "std      181.144454  \n",
              "min        1.000000  \n",
              "25%       42.000000  \n",
              "50%      145.000000  \n",
              "75%      284.000000  \n",
              "max      977.000000  "
            ],
            "text/html": [
              "\n",
              "  <div id=\"df-7025fd62-ed4f-439e-9812-de5342e4f9a2\">\n",
              "    <div class=\"colab-df-container\">\n",
              "      <div>\n",
              "<style scoped>\n",
              "    .dataframe tbody tr th:only-of-type {\n",
              "        vertical-align: middle;\n",
              "    }\n",
              "\n",
              "    .dataframe tbody tr th {\n",
              "        vertical-align: top;\n",
              "    }\n",
              "\n",
              "    .dataframe thead th {\n",
              "        text-align: right;\n",
              "    }\n",
              "</style>\n",
              "<table border=\"1\" class=\"dataframe\">\n",
              "  <thead>\n",
              "    <tr style=\"text-align: right;\">\n",
              "      <th></th>\n",
              "      <th>season</th>\n",
              "      <th>holiday</th>\n",
              "      <th>workingday</th>\n",
              "      <th>weather</th>\n",
              "      <th>temp</th>\n",
              "      <th>atemp</th>\n",
              "      <th>humidity</th>\n",
              "      <th>windspeed</th>\n",
              "      <th>casual</th>\n",
              "      <th>registered</th>\n",
              "      <th>count</th>\n",
              "    </tr>\n",
              "  </thead>\n",
              "  <tbody>\n",
              "    <tr>\n",
              "      <th>count</th>\n",
              "      <td>10886.000000</td>\n",
              "      <td>10886.000000</td>\n",
              "      <td>10886.000000</td>\n",
              "      <td>10886.000000</td>\n",
              "      <td>10886.00000</td>\n",
              "      <td>10886.000000</td>\n",
              "      <td>10886.000000</td>\n",
              "      <td>10886.000000</td>\n",
              "      <td>10886.000000</td>\n",
              "      <td>10886.000000</td>\n",
              "      <td>10886.000000</td>\n",
              "    </tr>\n",
              "    <tr>\n",
              "      <th>mean</th>\n",
              "      <td>2.506614</td>\n",
              "      <td>0.028569</td>\n",
              "      <td>0.680875</td>\n",
              "      <td>1.418427</td>\n",
              "      <td>20.23086</td>\n",
              "      <td>23.655084</td>\n",
              "      <td>61.886460</td>\n",
              "      <td>12.799395</td>\n",
              "      <td>36.021955</td>\n",
              "      <td>155.552177</td>\n",
              "      <td>191.574132</td>\n",
              "    </tr>\n",
              "    <tr>\n",
              "      <th>std</th>\n",
              "      <td>1.116174</td>\n",
              "      <td>0.166599</td>\n",
              "      <td>0.466159</td>\n",
              "      <td>0.633839</td>\n",
              "      <td>7.79159</td>\n",
              "      <td>8.474601</td>\n",
              "      <td>19.245033</td>\n",
              "      <td>8.164537</td>\n",
              "      <td>49.960477</td>\n",
              "      <td>151.039033</td>\n",
              "      <td>181.144454</td>\n",
              "    </tr>\n",
              "    <tr>\n",
              "      <th>min</th>\n",
              "      <td>1.000000</td>\n",
              "      <td>0.000000</td>\n",
              "      <td>0.000000</td>\n",
              "      <td>1.000000</td>\n",
              "      <td>0.82000</td>\n",
              "      <td>0.760000</td>\n",
              "      <td>0.000000</td>\n",
              "      <td>0.000000</td>\n",
              "      <td>0.000000</td>\n",
              "      <td>0.000000</td>\n",
              "      <td>1.000000</td>\n",
              "    </tr>\n",
              "    <tr>\n",
              "      <th>25%</th>\n",
              "      <td>2.000000</td>\n",
              "      <td>0.000000</td>\n",
              "      <td>0.000000</td>\n",
              "      <td>1.000000</td>\n",
              "      <td>13.94000</td>\n",
              "      <td>16.665000</td>\n",
              "      <td>47.000000</td>\n",
              "      <td>7.001500</td>\n",
              "      <td>4.000000</td>\n",
              "      <td>36.000000</td>\n",
              "      <td>42.000000</td>\n",
              "    </tr>\n",
              "    <tr>\n",
              "      <th>50%</th>\n",
              "      <td>3.000000</td>\n",
              "      <td>0.000000</td>\n",
              "      <td>1.000000</td>\n",
              "      <td>1.000000</td>\n",
              "      <td>20.50000</td>\n",
              "      <td>24.240000</td>\n",
              "      <td>62.000000</td>\n",
              "      <td>12.998000</td>\n",
              "      <td>17.000000</td>\n",
              "      <td>118.000000</td>\n",
              "      <td>145.000000</td>\n",
              "    </tr>\n",
              "    <tr>\n",
              "      <th>75%</th>\n",
              "      <td>4.000000</td>\n",
              "      <td>0.000000</td>\n",
              "      <td>1.000000</td>\n",
              "      <td>2.000000</td>\n",
              "      <td>26.24000</td>\n",
              "      <td>31.060000</td>\n",
              "      <td>77.000000</td>\n",
              "      <td>16.997900</td>\n",
              "      <td>49.000000</td>\n",
              "      <td>222.000000</td>\n",
              "      <td>284.000000</td>\n",
              "    </tr>\n",
              "    <tr>\n",
              "      <th>max</th>\n",
              "      <td>4.000000</td>\n",
              "      <td>1.000000</td>\n",
              "      <td>1.000000</td>\n",
              "      <td>4.000000</td>\n",
              "      <td>41.00000</td>\n",
              "      <td>45.455000</td>\n",
              "      <td>100.000000</td>\n",
              "      <td>56.996900</td>\n",
              "      <td>367.000000</td>\n",
              "      <td>886.000000</td>\n",
              "      <td>977.000000</td>\n",
              "    </tr>\n",
              "  </tbody>\n",
              "</table>\n",
              "</div>\n",
              "      <button class=\"colab-df-convert\" onclick=\"convertToInteractive('df-7025fd62-ed4f-439e-9812-de5342e4f9a2')\"\n",
              "              title=\"Convert this dataframe to an interactive table.\"\n",
              "              style=\"display:none;\">\n",
              "        \n",
              "  <svg xmlns=\"http://www.w3.org/2000/svg\" height=\"24px\"viewBox=\"0 0 24 24\"\n",
              "       width=\"24px\">\n",
              "    <path d=\"M0 0h24v24H0V0z\" fill=\"none\"/>\n",
              "    <path d=\"M18.56 5.44l.94 2.06.94-2.06 2.06-.94-2.06-.94-.94-2.06-.94 2.06-2.06.94zm-11 1L8.5 8.5l.94-2.06 2.06-.94-2.06-.94L8.5 2.5l-.94 2.06-2.06.94zm10 10l.94 2.06.94-2.06 2.06-.94-2.06-.94-.94-2.06-.94 2.06-2.06.94z\"/><path d=\"M17.41 7.96l-1.37-1.37c-.4-.4-.92-.59-1.43-.59-.52 0-1.04.2-1.43.59L10.3 9.45l-7.72 7.72c-.78.78-.78 2.05 0 2.83L4 21.41c.39.39.9.59 1.41.59.51 0 1.02-.2 1.41-.59l7.78-7.78 2.81-2.81c.8-.78.8-2.07 0-2.86zM5.41 20L4 18.59l7.72-7.72 1.47 1.35L5.41 20z\"/>\n",
              "  </svg>\n",
              "      </button>\n",
              "      \n",
              "  <style>\n",
              "    .colab-df-container {\n",
              "      display:flex;\n",
              "      flex-wrap:wrap;\n",
              "      gap: 12px;\n",
              "    }\n",
              "\n",
              "    .colab-df-convert {\n",
              "      background-color: #E8F0FE;\n",
              "      border: none;\n",
              "      border-radius: 50%;\n",
              "      cursor: pointer;\n",
              "      display: none;\n",
              "      fill: #1967D2;\n",
              "      height: 32px;\n",
              "      padding: 0 0 0 0;\n",
              "      width: 32px;\n",
              "    }\n",
              "\n",
              "    .colab-df-convert:hover {\n",
              "      background-color: #E2EBFA;\n",
              "      box-shadow: 0px 1px 2px rgba(60, 64, 67, 0.3), 0px 1px 3px 1px rgba(60, 64, 67, 0.15);\n",
              "      fill: #174EA6;\n",
              "    }\n",
              "\n",
              "    [theme=dark] .colab-df-convert {\n",
              "      background-color: #3B4455;\n",
              "      fill: #D2E3FC;\n",
              "    }\n",
              "\n",
              "    [theme=dark] .colab-df-convert:hover {\n",
              "      background-color: #434B5C;\n",
              "      box-shadow: 0px 1px 3px 1px rgba(0, 0, 0, 0.15);\n",
              "      filter: drop-shadow(0px 1px 2px rgba(0, 0, 0, 0.3));\n",
              "      fill: #FFFFFF;\n",
              "    }\n",
              "  </style>\n",
              "\n",
              "      <script>\n",
              "        const buttonEl =\n",
              "          document.querySelector('#df-7025fd62-ed4f-439e-9812-de5342e4f9a2 button.colab-df-convert');\n",
              "        buttonEl.style.display =\n",
              "          google.colab.kernel.accessAllowed ? 'block' : 'none';\n",
              "\n",
              "        async function convertToInteractive(key) {\n",
              "          const element = document.querySelector('#df-7025fd62-ed4f-439e-9812-de5342e4f9a2');\n",
              "          const dataTable =\n",
              "            await google.colab.kernel.invokeFunction('convertToInteractive',\n",
              "                                                     [key], {});\n",
              "          if (!dataTable) return;\n",
              "\n",
              "          const docLinkHtml = 'Like what you see? Visit the ' +\n",
              "            '<a target=\"_blank\" href=https://colab.research.google.com/notebooks/data_table.ipynb>data table notebook</a>'\n",
              "            + ' to learn more about interactive tables.';\n",
              "          element.innerHTML = '';\n",
              "          dataTable['output_type'] = 'display_data';\n",
              "          await google.colab.output.renderOutput(dataTable, element);\n",
              "          const docLink = document.createElement('div');\n",
              "          docLink.innerHTML = docLinkHtml;\n",
              "          element.appendChild(docLink);\n",
              "        }\n",
              "      </script>\n",
              "    </div>\n",
              "  </div>\n",
              "  "
            ]
          },
          "metadata": {},
          "execution_count": 13
        }
      ],
      "source": [
        "# Simple output of the train dataset to view some of the min/max/variation of the dataset features \n",
        "train.describe()"
      ]
    },
    {
      "cell_type": "code",
      "execution_count": null,
      "metadata": {
        "colab": {
          "base_uri": "https://localhost:8080/",
          "height": 142
        },
        "id": "JjLGUuATC4X-",
        "outputId": "acac1451-210a-4cdc-e11d-68e88962fe70"
      },
      "outputs": [
        {
          "output_type": "execute_result",
          "data": {
            "text/plain": [
              "             datetime  season  holiday  workingday  weather   temp   atemp  \\\n",
              "0 2011-01-20 00:00:00       1        0           1        1  10.66  11.365   \n",
              "1 2011-01-20 01:00:00       1        0           1        1  10.66  13.635   \n",
              "2 2011-01-20 02:00:00       1        0           1        1  10.66  13.635   \n",
              "\n",
              "   humidity  windspeed  \n",
              "0        56    26.0027  \n",
              "1        56     0.0000  \n",
              "2        56     0.0000  "
            ],
            "text/html": [
              "\n",
              "  <div id=\"df-2541e50b-f65e-4202-97b6-0cc3aa0deb53\">\n",
              "    <div class=\"colab-df-container\">\n",
              "      <div>\n",
              "<style scoped>\n",
              "    .dataframe tbody tr th:only-of-type {\n",
              "        vertical-align: middle;\n",
              "    }\n",
              "\n",
              "    .dataframe tbody tr th {\n",
              "        vertical-align: top;\n",
              "    }\n",
              "\n",
              "    .dataframe thead th {\n",
              "        text-align: right;\n",
              "    }\n",
              "</style>\n",
              "<table border=\"1\" class=\"dataframe\">\n",
              "  <thead>\n",
              "    <tr style=\"text-align: right;\">\n",
              "      <th></th>\n",
              "      <th>datetime</th>\n",
              "      <th>season</th>\n",
              "      <th>holiday</th>\n",
              "      <th>workingday</th>\n",
              "      <th>weather</th>\n",
              "      <th>temp</th>\n",
              "      <th>atemp</th>\n",
              "      <th>humidity</th>\n",
              "      <th>windspeed</th>\n",
              "    </tr>\n",
              "  </thead>\n",
              "  <tbody>\n",
              "    <tr>\n",
              "      <th>0</th>\n",
              "      <td>2011-01-20 00:00:00</td>\n",
              "      <td>1</td>\n",
              "      <td>0</td>\n",
              "      <td>1</td>\n",
              "      <td>1</td>\n",
              "      <td>10.66</td>\n",
              "      <td>11.365</td>\n",
              "      <td>56</td>\n",
              "      <td>26.0027</td>\n",
              "    </tr>\n",
              "    <tr>\n",
              "      <th>1</th>\n",
              "      <td>2011-01-20 01:00:00</td>\n",
              "      <td>1</td>\n",
              "      <td>0</td>\n",
              "      <td>1</td>\n",
              "      <td>1</td>\n",
              "      <td>10.66</td>\n",
              "      <td>13.635</td>\n",
              "      <td>56</td>\n",
              "      <td>0.0000</td>\n",
              "    </tr>\n",
              "    <tr>\n",
              "      <th>2</th>\n",
              "      <td>2011-01-20 02:00:00</td>\n",
              "      <td>1</td>\n",
              "      <td>0</td>\n",
              "      <td>1</td>\n",
              "      <td>1</td>\n",
              "      <td>10.66</td>\n",
              "      <td>13.635</td>\n",
              "      <td>56</td>\n",
              "      <td>0.0000</td>\n",
              "    </tr>\n",
              "  </tbody>\n",
              "</table>\n",
              "</div>\n",
              "      <button class=\"colab-df-convert\" onclick=\"convertToInteractive('df-2541e50b-f65e-4202-97b6-0cc3aa0deb53')\"\n",
              "              title=\"Convert this dataframe to an interactive table.\"\n",
              "              style=\"display:none;\">\n",
              "        \n",
              "  <svg xmlns=\"http://www.w3.org/2000/svg\" height=\"24px\"viewBox=\"0 0 24 24\"\n",
              "       width=\"24px\">\n",
              "    <path d=\"M0 0h24v24H0V0z\" fill=\"none\"/>\n",
              "    <path d=\"M18.56 5.44l.94 2.06.94-2.06 2.06-.94-2.06-.94-.94-2.06-.94 2.06-2.06.94zm-11 1L8.5 8.5l.94-2.06 2.06-.94-2.06-.94L8.5 2.5l-.94 2.06-2.06.94zm10 10l.94 2.06.94-2.06 2.06-.94-2.06-.94-.94-2.06-.94 2.06-2.06.94z\"/><path d=\"M17.41 7.96l-1.37-1.37c-.4-.4-.92-.59-1.43-.59-.52 0-1.04.2-1.43.59L10.3 9.45l-7.72 7.72c-.78.78-.78 2.05 0 2.83L4 21.41c.39.39.9.59 1.41.59.51 0 1.02-.2 1.41-.59l7.78-7.78 2.81-2.81c.8-.78.8-2.07 0-2.86zM5.41 20L4 18.59l7.72-7.72 1.47 1.35L5.41 20z\"/>\n",
              "  </svg>\n",
              "      </button>\n",
              "      \n",
              "  <style>\n",
              "    .colab-df-container {\n",
              "      display:flex;\n",
              "      flex-wrap:wrap;\n",
              "      gap: 12px;\n",
              "    }\n",
              "\n",
              "    .colab-df-convert {\n",
              "      background-color: #E8F0FE;\n",
              "      border: none;\n",
              "      border-radius: 50%;\n",
              "      cursor: pointer;\n",
              "      display: none;\n",
              "      fill: #1967D2;\n",
              "      height: 32px;\n",
              "      padding: 0 0 0 0;\n",
              "      width: 32px;\n",
              "    }\n",
              "\n",
              "    .colab-df-convert:hover {\n",
              "      background-color: #E2EBFA;\n",
              "      box-shadow: 0px 1px 2px rgba(60, 64, 67, 0.3), 0px 1px 3px 1px rgba(60, 64, 67, 0.15);\n",
              "      fill: #174EA6;\n",
              "    }\n",
              "\n",
              "    [theme=dark] .colab-df-convert {\n",
              "      background-color: #3B4455;\n",
              "      fill: #D2E3FC;\n",
              "    }\n",
              "\n",
              "    [theme=dark] .colab-df-convert:hover {\n",
              "      background-color: #434B5C;\n",
              "      box-shadow: 0px 1px 3px 1px rgba(0, 0, 0, 0.15);\n",
              "      filter: drop-shadow(0px 1px 2px rgba(0, 0, 0, 0.3));\n",
              "      fill: #FFFFFF;\n",
              "    }\n",
              "  </style>\n",
              "\n",
              "      <script>\n",
              "        const buttonEl =\n",
              "          document.querySelector('#df-2541e50b-f65e-4202-97b6-0cc3aa0deb53 button.colab-df-convert');\n",
              "        buttonEl.style.display =\n",
              "          google.colab.kernel.accessAllowed ? 'block' : 'none';\n",
              "\n",
              "        async function convertToInteractive(key) {\n",
              "          const element = document.querySelector('#df-2541e50b-f65e-4202-97b6-0cc3aa0deb53');\n",
              "          const dataTable =\n",
              "            await google.colab.kernel.invokeFunction('convertToInteractive',\n",
              "                                                     [key], {});\n",
              "          if (!dataTable) return;\n",
              "\n",
              "          const docLinkHtml = 'Like what you see? Visit the ' +\n",
              "            '<a target=\"_blank\" href=https://colab.research.google.com/notebooks/data_table.ipynb>data table notebook</a>'\n",
              "            + ' to learn more about interactive tables.';\n",
              "          element.innerHTML = '';\n",
              "          dataTable['output_type'] = 'display_data';\n",
              "          await google.colab.output.renderOutput(dataTable, element);\n",
              "          const docLink = document.createElement('div');\n",
              "          docLink.innerHTML = docLinkHtml;\n",
              "          element.appendChild(docLink);\n",
              "        }\n",
              "      </script>\n",
              "    </div>\n",
              "  </div>\n",
              "  "
            ]
          },
          "metadata": {},
          "execution_count": 16
        }
      ],
      "source": [
        "# Create the test pandas dataframe in pandas by reading the csv, remember to parse the datetime!\n",
        "test = pd.read_csv('test.csv', parse_dates=['datetime'])\n",
        "test.head(3)"
      ]
    },
    {
      "cell_type": "code",
      "source": [
        "test.info()"
      ],
      "metadata": {
        "colab": {
          "base_uri": "https://localhost:8080/"
        },
        "id": "t-VocKH0jKP-",
        "outputId": "26dcf0d0-1b1d-490e-e7e7-d7ad8b71abbb"
      },
      "execution_count": null,
      "outputs": [
        {
          "output_type": "stream",
          "name": "stdout",
          "text": [
            "<class 'pandas.core.frame.DataFrame'>\n",
            "RangeIndex: 6493 entries, 0 to 6492\n",
            "Data columns (total 9 columns):\n",
            " #   Column      Non-Null Count  Dtype         \n",
            "---  ------      --------------  -----         \n",
            " 0   datetime    6493 non-null   datetime64[ns]\n",
            " 1   season      6493 non-null   int64         \n",
            " 2   holiday     6493 non-null   int64         \n",
            " 3   workingday  6493 non-null   int64         \n",
            " 4   weather     6493 non-null   int64         \n",
            " 5   temp        6493 non-null   float64       \n",
            " 6   atemp       6493 non-null   float64       \n",
            " 7   humidity    6493 non-null   int64         \n",
            " 8   windspeed   6493 non-null   float64       \n",
            "dtypes: datetime64[ns](1), float64(3), int64(5)\n",
            "memory usage: 456.7 KB\n"
          ]
        }
      ]
    },
    {
      "cell_type": "code",
      "source": [
        "test.describe()"
      ],
      "metadata": {
        "colab": {
          "base_uri": "https://localhost:8080/",
          "height": 297
        },
        "id": "hDZZD0bujKCJ",
        "outputId": "29517f21-d924-49cc-c6e6-5ba691221784"
      },
      "execution_count": null,
      "outputs": [
        {
          "output_type": "execute_result",
          "data": {
            "text/plain": [
              "            season      holiday   workingday      weather         temp  \\\n",
              "count  6493.000000  6493.000000  6493.000000  6493.000000  6493.000000   \n",
              "mean      2.493300     0.029108     0.685815     1.436778    20.620607   \n",
              "std       1.091258     0.168123     0.464226     0.648390     8.059583   \n",
              "min       1.000000     0.000000     0.000000     1.000000     0.820000   \n",
              "25%       2.000000     0.000000     0.000000     1.000000    13.940000   \n",
              "50%       3.000000     0.000000     1.000000     1.000000    21.320000   \n",
              "75%       3.000000     0.000000     1.000000     2.000000    27.060000   \n",
              "max       4.000000     1.000000     1.000000     4.000000    40.180000   \n",
              "\n",
              "             atemp     humidity    windspeed  \n",
              "count  6493.000000  6493.000000  6493.000000  \n",
              "mean     24.012865    64.125212    12.631157  \n",
              "std       8.782741    19.293391     8.250151  \n",
              "min       0.000000    16.000000     0.000000  \n",
              "25%      16.665000    49.000000     7.001500  \n",
              "50%      25.000000    65.000000    11.001400  \n",
              "75%      31.060000    81.000000    16.997900  \n",
              "max      50.000000   100.000000    55.998600  "
            ],
            "text/html": [
              "\n",
              "  <div id=\"df-2aed99fc-cd57-4c38-ba43-450516335677\">\n",
              "    <div class=\"colab-df-container\">\n",
              "      <div>\n",
              "<style scoped>\n",
              "    .dataframe tbody tr th:only-of-type {\n",
              "        vertical-align: middle;\n",
              "    }\n",
              "\n",
              "    .dataframe tbody tr th {\n",
              "        vertical-align: top;\n",
              "    }\n",
              "\n",
              "    .dataframe thead th {\n",
              "        text-align: right;\n",
              "    }\n",
              "</style>\n",
              "<table border=\"1\" class=\"dataframe\">\n",
              "  <thead>\n",
              "    <tr style=\"text-align: right;\">\n",
              "      <th></th>\n",
              "      <th>season</th>\n",
              "      <th>holiday</th>\n",
              "      <th>workingday</th>\n",
              "      <th>weather</th>\n",
              "      <th>temp</th>\n",
              "      <th>atemp</th>\n",
              "      <th>humidity</th>\n",
              "      <th>windspeed</th>\n",
              "    </tr>\n",
              "  </thead>\n",
              "  <tbody>\n",
              "    <tr>\n",
              "      <th>count</th>\n",
              "      <td>6493.000000</td>\n",
              "      <td>6493.000000</td>\n",
              "      <td>6493.000000</td>\n",
              "      <td>6493.000000</td>\n",
              "      <td>6493.000000</td>\n",
              "      <td>6493.000000</td>\n",
              "      <td>6493.000000</td>\n",
              "      <td>6493.000000</td>\n",
              "    </tr>\n",
              "    <tr>\n",
              "      <th>mean</th>\n",
              "      <td>2.493300</td>\n",
              "      <td>0.029108</td>\n",
              "      <td>0.685815</td>\n",
              "      <td>1.436778</td>\n",
              "      <td>20.620607</td>\n",
              "      <td>24.012865</td>\n",
              "      <td>64.125212</td>\n",
              "      <td>12.631157</td>\n",
              "    </tr>\n",
              "    <tr>\n",
              "      <th>std</th>\n",
              "      <td>1.091258</td>\n",
              "      <td>0.168123</td>\n",
              "      <td>0.464226</td>\n",
              "      <td>0.648390</td>\n",
              "      <td>8.059583</td>\n",
              "      <td>8.782741</td>\n",
              "      <td>19.293391</td>\n",
              "      <td>8.250151</td>\n",
              "    </tr>\n",
              "    <tr>\n",
              "      <th>min</th>\n",
              "      <td>1.000000</td>\n",
              "      <td>0.000000</td>\n",
              "      <td>0.000000</td>\n",
              "      <td>1.000000</td>\n",
              "      <td>0.820000</td>\n",
              "      <td>0.000000</td>\n",
              "      <td>16.000000</td>\n",
              "      <td>0.000000</td>\n",
              "    </tr>\n",
              "    <tr>\n",
              "      <th>25%</th>\n",
              "      <td>2.000000</td>\n",
              "      <td>0.000000</td>\n",
              "      <td>0.000000</td>\n",
              "      <td>1.000000</td>\n",
              "      <td>13.940000</td>\n",
              "      <td>16.665000</td>\n",
              "      <td>49.000000</td>\n",
              "      <td>7.001500</td>\n",
              "    </tr>\n",
              "    <tr>\n",
              "      <th>50%</th>\n",
              "      <td>3.000000</td>\n",
              "      <td>0.000000</td>\n",
              "      <td>1.000000</td>\n",
              "      <td>1.000000</td>\n",
              "      <td>21.320000</td>\n",
              "      <td>25.000000</td>\n",
              "      <td>65.000000</td>\n",
              "      <td>11.001400</td>\n",
              "    </tr>\n",
              "    <tr>\n",
              "      <th>75%</th>\n",
              "      <td>3.000000</td>\n",
              "      <td>0.000000</td>\n",
              "      <td>1.000000</td>\n",
              "      <td>2.000000</td>\n",
              "      <td>27.060000</td>\n",
              "      <td>31.060000</td>\n",
              "      <td>81.000000</td>\n",
              "      <td>16.997900</td>\n",
              "    </tr>\n",
              "    <tr>\n",
              "      <th>max</th>\n",
              "      <td>4.000000</td>\n",
              "      <td>1.000000</td>\n",
              "      <td>1.000000</td>\n",
              "      <td>4.000000</td>\n",
              "      <td>40.180000</td>\n",
              "      <td>50.000000</td>\n",
              "      <td>100.000000</td>\n",
              "      <td>55.998600</td>\n",
              "    </tr>\n",
              "  </tbody>\n",
              "</table>\n",
              "</div>\n",
              "      <button class=\"colab-df-convert\" onclick=\"convertToInteractive('df-2aed99fc-cd57-4c38-ba43-450516335677')\"\n",
              "              title=\"Convert this dataframe to an interactive table.\"\n",
              "              style=\"display:none;\">\n",
              "        \n",
              "  <svg xmlns=\"http://www.w3.org/2000/svg\" height=\"24px\"viewBox=\"0 0 24 24\"\n",
              "       width=\"24px\">\n",
              "    <path d=\"M0 0h24v24H0V0z\" fill=\"none\"/>\n",
              "    <path d=\"M18.56 5.44l.94 2.06.94-2.06 2.06-.94-2.06-.94-.94-2.06-.94 2.06-2.06.94zm-11 1L8.5 8.5l.94-2.06 2.06-.94-2.06-.94L8.5 2.5l-.94 2.06-2.06.94zm10 10l.94 2.06.94-2.06 2.06-.94-2.06-.94-.94-2.06-.94 2.06-2.06.94z\"/><path d=\"M17.41 7.96l-1.37-1.37c-.4-.4-.92-.59-1.43-.59-.52 0-1.04.2-1.43.59L10.3 9.45l-7.72 7.72c-.78.78-.78 2.05 0 2.83L4 21.41c.39.39.9.59 1.41.59.51 0 1.02-.2 1.41-.59l7.78-7.78 2.81-2.81c.8-.78.8-2.07 0-2.86zM5.41 20L4 18.59l7.72-7.72 1.47 1.35L5.41 20z\"/>\n",
              "  </svg>\n",
              "      </button>\n",
              "      \n",
              "  <style>\n",
              "    .colab-df-container {\n",
              "      display:flex;\n",
              "      flex-wrap:wrap;\n",
              "      gap: 12px;\n",
              "    }\n",
              "\n",
              "    .colab-df-convert {\n",
              "      background-color: #E8F0FE;\n",
              "      border: none;\n",
              "      border-radius: 50%;\n",
              "      cursor: pointer;\n",
              "      display: none;\n",
              "      fill: #1967D2;\n",
              "      height: 32px;\n",
              "      padding: 0 0 0 0;\n",
              "      width: 32px;\n",
              "    }\n",
              "\n",
              "    .colab-df-convert:hover {\n",
              "      background-color: #E2EBFA;\n",
              "      box-shadow: 0px 1px 2px rgba(60, 64, 67, 0.3), 0px 1px 3px 1px rgba(60, 64, 67, 0.15);\n",
              "      fill: #174EA6;\n",
              "    }\n",
              "\n",
              "    [theme=dark] .colab-df-convert {\n",
              "      background-color: #3B4455;\n",
              "      fill: #D2E3FC;\n",
              "    }\n",
              "\n",
              "    [theme=dark] .colab-df-convert:hover {\n",
              "      background-color: #434B5C;\n",
              "      box-shadow: 0px 1px 3px 1px rgba(0, 0, 0, 0.15);\n",
              "      filter: drop-shadow(0px 1px 2px rgba(0, 0, 0, 0.3));\n",
              "      fill: #FFFFFF;\n",
              "    }\n",
              "  </style>\n",
              "\n",
              "      <script>\n",
              "        const buttonEl =\n",
              "          document.querySelector('#df-2aed99fc-cd57-4c38-ba43-450516335677 button.colab-df-convert');\n",
              "        buttonEl.style.display =\n",
              "          google.colab.kernel.accessAllowed ? 'block' : 'none';\n",
              "\n",
              "        async function convertToInteractive(key) {\n",
              "          const element = document.querySelector('#df-2aed99fc-cd57-4c38-ba43-450516335677');\n",
              "          const dataTable =\n",
              "            await google.colab.kernel.invokeFunction('convertToInteractive',\n",
              "                                                     [key], {});\n",
              "          if (!dataTable) return;\n",
              "\n",
              "          const docLinkHtml = 'Like what you see? Visit the ' +\n",
              "            '<a target=\"_blank\" href=https://colab.research.google.com/notebooks/data_table.ipynb>data table notebook</a>'\n",
              "            + ' to learn more about interactive tables.';\n",
              "          element.innerHTML = '';\n",
              "          dataTable['output_type'] = 'display_data';\n",
              "          await google.colab.output.renderOutput(dataTable, element);\n",
              "          const docLink = document.createElement('div');\n",
              "          docLink.innerHTML = docLinkHtml;\n",
              "          element.appendChild(docLink);\n",
              "        }\n",
              "      </script>\n",
              "    </div>\n",
              "  </div>\n",
              "  "
            ]
          },
          "metadata": {},
          "execution_count": 18
        }
      ]
    },
    {
      "cell_type": "code",
      "execution_count": null,
      "metadata": {
        "colab": {
          "base_uri": "https://localhost:8080/",
          "height": 204
        },
        "id": "ePK5TPhjC4X-",
        "outputId": "60d70360-db66-4935-ebdd-45d6b9ea2f56"
      },
      "outputs": [
        {
          "output_type": "execute_result",
          "data": {
            "text/plain": [
              "             datetime  count\n",
              "0 2011-01-20 00:00:00      0\n",
              "1 2011-01-20 01:00:00      0\n",
              "2 2011-01-20 02:00:00      0\n",
              "3 2011-01-20 03:00:00      0\n",
              "4 2011-01-20 04:00:00      0"
            ],
            "text/html": [
              "\n",
              "  <div id=\"df-d0316294-ba5d-4a44-a7a0-07c585c81ccc\">\n",
              "    <div class=\"colab-df-container\">\n",
              "      <div>\n",
              "<style scoped>\n",
              "    .dataframe tbody tr th:only-of-type {\n",
              "        vertical-align: middle;\n",
              "    }\n",
              "\n",
              "    .dataframe tbody tr th {\n",
              "        vertical-align: top;\n",
              "    }\n",
              "\n",
              "    .dataframe thead th {\n",
              "        text-align: right;\n",
              "    }\n",
              "</style>\n",
              "<table border=\"1\" class=\"dataframe\">\n",
              "  <thead>\n",
              "    <tr style=\"text-align: right;\">\n",
              "      <th></th>\n",
              "      <th>datetime</th>\n",
              "      <th>count</th>\n",
              "    </tr>\n",
              "  </thead>\n",
              "  <tbody>\n",
              "    <tr>\n",
              "      <th>0</th>\n",
              "      <td>2011-01-20 00:00:00</td>\n",
              "      <td>0</td>\n",
              "    </tr>\n",
              "    <tr>\n",
              "      <th>1</th>\n",
              "      <td>2011-01-20 01:00:00</td>\n",
              "      <td>0</td>\n",
              "    </tr>\n",
              "    <tr>\n",
              "      <th>2</th>\n",
              "      <td>2011-01-20 02:00:00</td>\n",
              "      <td>0</td>\n",
              "    </tr>\n",
              "    <tr>\n",
              "      <th>3</th>\n",
              "      <td>2011-01-20 03:00:00</td>\n",
              "      <td>0</td>\n",
              "    </tr>\n",
              "    <tr>\n",
              "      <th>4</th>\n",
              "      <td>2011-01-20 04:00:00</td>\n",
              "      <td>0</td>\n",
              "    </tr>\n",
              "  </tbody>\n",
              "</table>\n",
              "</div>\n",
              "      <button class=\"colab-df-convert\" onclick=\"convertToInteractive('df-d0316294-ba5d-4a44-a7a0-07c585c81ccc')\"\n",
              "              title=\"Convert this dataframe to an interactive table.\"\n",
              "              style=\"display:none;\">\n",
              "        \n",
              "  <svg xmlns=\"http://www.w3.org/2000/svg\" height=\"24px\"viewBox=\"0 0 24 24\"\n",
              "       width=\"24px\">\n",
              "    <path d=\"M0 0h24v24H0V0z\" fill=\"none\"/>\n",
              "    <path d=\"M18.56 5.44l.94 2.06.94-2.06 2.06-.94-2.06-.94-.94-2.06-.94 2.06-2.06.94zm-11 1L8.5 8.5l.94-2.06 2.06-.94-2.06-.94L8.5 2.5l-.94 2.06-2.06.94zm10 10l.94 2.06.94-2.06 2.06-.94-2.06-.94-.94-2.06-.94 2.06-2.06.94z\"/><path d=\"M17.41 7.96l-1.37-1.37c-.4-.4-.92-.59-1.43-.59-.52 0-1.04.2-1.43.59L10.3 9.45l-7.72 7.72c-.78.78-.78 2.05 0 2.83L4 21.41c.39.39.9.59 1.41.59.51 0 1.02-.2 1.41-.59l7.78-7.78 2.81-2.81c.8-.78.8-2.07 0-2.86zM5.41 20L4 18.59l7.72-7.72 1.47 1.35L5.41 20z\"/>\n",
              "  </svg>\n",
              "      </button>\n",
              "      \n",
              "  <style>\n",
              "    .colab-df-container {\n",
              "      display:flex;\n",
              "      flex-wrap:wrap;\n",
              "      gap: 12px;\n",
              "    }\n",
              "\n",
              "    .colab-df-convert {\n",
              "      background-color: #E8F0FE;\n",
              "      border: none;\n",
              "      border-radius: 50%;\n",
              "      cursor: pointer;\n",
              "      display: none;\n",
              "      fill: #1967D2;\n",
              "      height: 32px;\n",
              "      padding: 0 0 0 0;\n",
              "      width: 32px;\n",
              "    }\n",
              "\n",
              "    .colab-df-convert:hover {\n",
              "      background-color: #E2EBFA;\n",
              "      box-shadow: 0px 1px 2px rgba(60, 64, 67, 0.3), 0px 1px 3px 1px rgba(60, 64, 67, 0.15);\n",
              "      fill: #174EA6;\n",
              "    }\n",
              "\n",
              "    [theme=dark] .colab-df-convert {\n",
              "      background-color: #3B4455;\n",
              "      fill: #D2E3FC;\n",
              "    }\n",
              "\n",
              "    [theme=dark] .colab-df-convert:hover {\n",
              "      background-color: #434B5C;\n",
              "      box-shadow: 0px 1px 3px 1px rgba(0, 0, 0, 0.15);\n",
              "      filter: drop-shadow(0px 1px 2px rgba(0, 0, 0, 0.3));\n",
              "      fill: #FFFFFF;\n",
              "    }\n",
              "  </style>\n",
              "\n",
              "      <script>\n",
              "        const buttonEl =\n",
              "          document.querySelector('#df-d0316294-ba5d-4a44-a7a0-07c585c81ccc button.colab-df-convert');\n",
              "        buttonEl.style.display =\n",
              "          google.colab.kernel.accessAllowed ? 'block' : 'none';\n",
              "\n",
              "        async function convertToInteractive(key) {\n",
              "          const element = document.querySelector('#df-d0316294-ba5d-4a44-a7a0-07c585c81ccc');\n",
              "          const dataTable =\n",
              "            await google.colab.kernel.invokeFunction('convertToInteractive',\n",
              "                                                     [key], {});\n",
              "          if (!dataTable) return;\n",
              "\n",
              "          const docLinkHtml = 'Like what you see? Visit the ' +\n",
              "            '<a target=\"_blank\" href=https://colab.research.google.com/notebooks/data_table.ipynb>data table notebook</a>'\n",
              "            + ' to learn more about interactive tables.';\n",
              "          element.innerHTML = '';\n",
              "          dataTable['output_type'] = 'display_data';\n",
              "          await google.colab.output.renderOutput(dataTable, element);\n",
              "          const docLink = document.createElement('div');\n",
              "          docLink.innerHTML = docLinkHtml;\n",
              "          element.appendChild(docLink);\n",
              "        }\n",
              "      </script>\n",
              "    </div>\n",
              "  </div>\n",
              "  "
            ]
          },
          "metadata": {},
          "execution_count": 19
        }
      ],
      "source": [
        "# Same thing as train and test dataset\n",
        "submission =  pd.read_csv('sampleSubmission.csv', parse_dates=['datetime'])\n",
        "submission.head()"
      ]
    },
    {
      "cell_type": "markdown",
      "metadata": {
        "id": "ICF6D0PqC4X-"
      },
      "source": [
        "## Step 3: Train a model using AutoGluon’s Tabular Prediction"
      ]
    },
    {
      "cell_type": "markdown",
      "metadata": {
        "id": "BZay9SR1C4X-"
      },
      "source": [
        "Requirements:\n",
        "* We are prediting `count`, so it is the label we are setting.\n",
        "* Ignore `casual` and `registered` columns as they are also not present in the test dataset. \n",
        "* Use the `root_mean_squared_error` as the metric to use for evaluation.\n",
        "* Set a time limit of 10 minutes (600 seconds).\n",
        "* Use the preset `best_quality` to focus on creating the best model."
      ]
    },
    {
      "cell_type": "code",
      "source": [
        "features = [\"datetime\",\"season\",\"holiday\",\"workingday\",\"weather\",\"temp\",\"atemp\",\"humidity\",\"windspeed\",\"count\"]\n",
        "\n",
        "predictor = TabularPredictor(\n",
        "    label=\"count\",\n",
        "    eval_metric=\"root_mean_squared_error\"\n",
        ").fit(\n",
        "    train[features],\n",
        "    time_limit= 600 ,\n",
        "    presets = \"best_quality\"\n",
        "    )\n"
      ],
      "metadata": {
        "id": "csGa1B5OjceH",
        "colab": {
          "base_uri": "https://localhost:8080/"
        },
        "outputId": "de488263-82c4-455d-f260-ddf44206178f"
      },
      "execution_count": null,
      "outputs": [
        {
          "output_type": "stream",
          "name": "stderr",
          "text": [
            "Level 25:autogluon.common.utils.utils:No path specified. Models will be saved in: \"AutogluonModels/ag-20220928_163218/\"\n",
            "INFO:autogluon.tabular.predictor.predictor:Presets specified: ['best_quality']\n",
            "INFO:autogluon.tabular.predictor.predictor:Stack configuration (auto_stack=True): num_stack_levels=1, num_bag_folds=8, num_bag_sets=20\n",
            "INFO:autogluon.tabular.learner.default_learner:Beginning AutoGluon training ... Time limit = 600s\n",
            "INFO:autogluon.tabular.learner.default_learner:AutoGluon will save models to \"AutogluonModels/ag-20220928_163218/\"\n",
            "INFO:autogluon.tabular.learner.default_learner:AutoGluon Version:  0.5.2\n",
            "INFO:autogluon.tabular.learner.default_learner:Python Version:     3.7.14\n",
            "INFO:autogluon.tabular.learner.default_learner:Operating System:   Linux\n",
            "INFO:autogluon.tabular.learner.default_learner:Train Data Rows:    10886\n",
            "INFO:autogluon.tabular.learner.default_learner:Train Data Columns: 9\n",
            "INFO:autogluon.tabular.learner.default_learner:Label Column: count\n",
            "INFO:autogluon.tabular.learner.default_learner:Preprocessing data ...\n",
            "Level 25:autogluon.core.utils.utils:AutoGluon infers your prediction problem is: 'regression' (because dtype of label-column == int and many unique label-values observed).\n",
            "INFO:autogluon.core.utils.utils:\tLabel info (max, min, mean, stddev): (977, 1, 191.57413, 181.14445)\n",
            "Level 25:autogluon.core.utils.utils:\tIf 'regression' is not the correct problem_type, please manually specify the problem_type parameter during predictor init (You may specify problem_type as one of: ['binary', 'multiclass', 'regression'])\n",
            "INFO:autogluon.tabular.learner.default_learner:Using Feature Generators to preprocess the data ...\n",
            "INFO:autogluon.features.generators.abstract:Fitting AutoMLPipelineFeatureGenerator...\n",
            "INFO:autogluon.features.generators.abstract:\tAvailable Memory:                    12157.05 MB\n",
            "INFO:autogluon.features.generators.abstract:\tTrain Data (Original)  Memory Usage: 0.78 MB (0.0% of available memory)\n",
            "INFO:autogluon.features.generators.abstract:\tInferring data type of each feature based on column values. Set feature_metadata_in to manually specify special dtypes of the features.\n",
            "INFO:autogluon.features.generators.abstract:\tStage 1 Generators:\n",
            "INFO:autogluon.features.generators.abstract:\t\tFitting AsTypeFeatureGenerator...\n",
            "INFO:autogluon.features.generators.abstract:\t\t\tNote: Converting 2 features to boolean dtype as they only contain 2 unique values.\n",
            "INFO:autogluon.features.generators.abstract:\tStage 2 Generators:\n",
            "INFO:autogluon.features.generators.abstract:\t\tFitting FillNaFeatureGenerator...\n",
            "INFO:autogluon.features.generators.abstract:\tStage 3 Generators:\n",
            "INFO:autogluon.features.generators.abstract:\t\tFitting IdentityFeatureGenerator...\n",
            "INFO:autogluon.features.generators.abstract:\t\tFitting DatetimeFeatureGenerator...\n",
            "INFO:autogluon.features.generators.abstract:\tStage 4 Generators:\n",
            "INFO:autogluon.features.generators.abstract:\t\tFitting DropUniqueFeatureGenerator...\n",
            "INFO:autogluon.features.generators.abstract:\tTypes of features in original data (raw dtype, special dtypes):\n",
            "INFO:autogluon.common.features.feature_metadata:\t\t('datetime', []) : 1 | ['datetime']\n",
            "INFO:autogluon.common.features.feature_metadata:\t\t('float', [])    : 3 | ['temp', 'atemp', 'windspeed']\n",
            "INFO:autogluon.common.features.feature_metadata:\t\t('int', [])      : 5 | ['season', 'holiday', 'workingday', 'weather', 'humidity']\n",
            "INFO:autogluon.features.generators.abstract:\tTypes of features in processed data (raw dtype, special dtypes):\n",
            "INFO:autogluon.common.features.feature_metadata:\t\t('float', [])                : 3 | ['temp', 'atemp', 'windspeed']\n",
            "INFO:autogluon.common.features.feature_metadata:\t\t('int', [])                  : 3 | ['season', 'weather', 'humidity']\n",
            "INFO:autogluon.common.features.feature_metadata:\t\t('int', ['bool'])            : 2 | ['holiday', 'workingday']\n",
            "INFO:autogluon.common.features.feature_metadata:\t\t('int', ['datetime_as_int']) : 5 | ['datetime', 'datetime.year', 'datetime.month', 'datetime.day', 'datetime.dayofweek']\n",
            "INFO:autogluon.features.generators.abstract:\t0.2s = Fit runtime\n",
            "INFO:autogluon.features.generators.abstract:\t9 features in original data used to generate 13 features in processed data.\n",
            "INFO:autogluon.features.generators.abstract:\tTrain Data (Processed) Memory Usage: 0.98 MB (0.0% of available memory)\n",
            "INFO:autogluon.tabular.learner.default_learner:Data preprocessing and feature engineering runtime = 0.26s ...\n",
            "Level 25:autogluon.core.trainer.abstract_trainer:AutoGluon will gauge predictive performance using evaluation metric: 'root_mean_squared_error'\n",
            "Level 25:autogluon.core.trainer.abstract_trainer:\tThis metric's sign has been flipped to adhere to being higher_is_better. The metric score can be multiplied by -1 to get the metric value.\n",
            "INFO:autogluon.core.trainer.abstract_trainer:\tTo change this, specify the eval_metric parameter of Predictor()\n",
            "INFO:autogluon.core.trainer.abstract_trainer:AutoGluon will fit 2 stack levels (L1 to L2) ...\n",
            "INFO:autogluon.core.trainer.abstract_trainer:Fitting 11 L1 models ...\n",
            "INFO:autogluon.core.trainer.abstract_trainer:Fitting model: KNeighborsUnif_BAG_L1 ... Training model for up to 399.73s of the 599.74s of remaining time.\n",
            "INFO:autogluon.core.trainer.abstract_trainer:\t-101.5462\t = Validation score   (-root_mean_squared_error)\n",
            "INFO:autogluon.core.trainer.abstract_trainer:\t0.03s\t = Training   runtime\n",
            "INFO:autogluon.core.trainer.abstract_trainer:\t0.1s\t = Validation runtime\n",
            "INFO:autogluon.core.trainer.abstract_trainer:Fitting model: KNeighborsDist_BAG_L1 ... Training model for up to 399.45s of the 599.46s of remaining time.\n",
            "INFO:autogluon.core.trainer.abstract_trainer:\t-84.1251\t = Validation score   (-root_mean_squared_error)\n",
            "INFO:autogluon.core.trainer.abstract_trainer:\t0.03s\t = Training   runtime\n",
            "INFO:autogluon.core.trainer.abstract_trainer:\t0.1s\t = Validation runtime\n",
            "INFO:autogluon.core.trainer.abstract_trainer:Fitting model: LightGBMXT_BAG_L1 ... Training model for up to 399.19s of the 599.2s of remaining time.\n",
            "INFO:autogluon.core.models.ensemble.bagged_ensemble_model:\tFitting 8 child models (S1F1 - S1F8) | Fitting with ParallelLocalFoldFittingStrategy\n",
            "INFO:autogluon.core.trainer.abstract_trainer:\t-131.4609\t = Validation score   (-root_mean_squared_error)\n",
            "INFO:autogluon.core.trainer.abstract_trainer:\t52.72s\t = Training   runtime\n",
            "INFO:autogluon.core.trainer.abstract_trainer:\t5.93s\t = Validation runtime\n",
            "INFO:autogluon.core.trainer.abstract_trainer:Fitting model: LightGBM_BAG_L1 ... Training model for up to 338.65s of the 538.66s of remaining time.\n",
            "INFO:autogluon.core.models.ensemble.bagged_ensemble_model:\tFitting 8 child models (S1F1 - S1F8) | Fitting with ParallelLocalFoldFittingStrategy\n",
            "INFO:autogluon.core.trainer.abstract_trainer:\t-131.0542\t = Validation score   (-root_mean_squared_error)\n",
            "INFO:autogluon.core.trainer.abstract_trainer:\t21.95s\t = Training   runtime\n",
            "INFO:autogluon.core.trainer.abstract_trainer:\t1.36s\t = Validation runtime\n",
            "INFO:autogluon.core.trainer.abstract_trainer:Fitting model: RandomForestMSE_BAG_L1 ... Training model for up to 313.6s of the 513.61s of remaining time.\n",
            "INFO:autogluon.core.trainer.abstract_trainer:\t-116.5443\t = Validation score   (-root_mean_squared_error)\n",
            "INFO:autogluon.core.trainer.abstract_trainer:\t9.87s\t = Training   runtime\n",
            "INFO:autogluon.core.trainer.abstract_trainer:\t0.56s\t = Validation runtime\n",
            "INFO:autogluon.core.trainer.abstract_trainer:Fitting model: CatBoost_BAG_L1 ... Training model for up to 302.41s of the 502.42s of remaining time.\n",
            "INFO:autogluon.core.models.ensemble.bagged_ensemble_model:\tFitting 8 child models (S1F1 - S1F8) | Fitting with ParallelLocalFoldFittingStrategy\n",
            "INFO:autogluon.core.trainer.abstract_trainer:\t-130.4723\t = Validation score   (-root_mean_squared_error)\n",
            "INFO:autogluon.core.trainer.abstract_trainer:\t186.33s\t = Training   runtime\n",
            "INFO:autogluon.core.trainer.abstract_trainer:\t0.15s\t = Validation runtime\n",
            "INFO:autogluon.core.trainer.abstract_trainer:Fitting model: ExtraTreesMSE_BAG_L1 ... Training model for up to 113.75s of the 313.76s of remaining time.\n",
            "INFO:autogluon.core.trainer.abstract_trainer:\t-124.5881\t = Validation score   (-root_mean_squared_error)\n",
            "INFO:autogluon.core.trainer.abstract_trainer:\t5.83s\t = Training   runtime\n",
            "INFO:autogluon.core.trainer.abstract_trainer:\t0.51s\t = Validation runtime\n",
            "INFO:autogluon.core.trainer.abstract_trainer:Fitting model: NeuralNetFastAI_BAG_L1 ... Training model for up to 106.67s of the 306.68s of remaining time.\n",
            "INFO:autogluon.core.models.ensemble.bagged_ensemble_model:\tFitting 8 child models (S1F1 - S1F8) | Fitting with ParallelLocalFoldFittingStrategy\n",
            "INFO:autogluon.core.trainer.abstract_trainer:\t-136.0333\t = Validation score   (-root_mean_squared_error)\n",
            "INFO:autogluon.core.trainer.abstract_trainer:\t84.23s\t = Training   runtime\n",
            "INFO:autogluon.core.trainer.abstract_trainer:\t0.38s\t = Validation runtime\n",
            "INFO:autogluon.core.trainer.abstract_trainer:Fitting model: XGBoost_BAG_L1 ... Training model for up to 17.68s of the 217.69s of remaining time.\n",
            "INFO:autogluon.core.models.ensemble.bagged_ensemble_model:\tFitting 8 child models (S1F1 - S1F8) | Fitting with ParallelLocalFoldFittingStrategy\n",
            "INFO:autogluon.core.trainer.abstract_trainer:\t-131.6247\t = Validation score   (-root_mean_squared_error)\n",
            "INFO:autogluon.core.trainer.abstract_trainer:\t21.05s\t = Training   runtime\n",
            "INFO:autogluon.core.trainer.abstract_trainer:\t2.4s\t = Validation runtime\n",
            "INFO:autogluon.core.trainer.abstract_trainer:Completed 1/20 k-fold bagging repeats ...\n",
            "INFO:autogluon.core.trainer.abstract_trainer:Fitting model: WeightedEnsemble_L2 ... Training model for up to 360.0s of the 193.84s of remaining time.\n",
            "INFO:autogluon.core.trainer.abstract_trainer:\t-84.1251\t = Validation score   (-root_mean_squared_error)\n",
            "INFO:autogluon.core.trainer.abstract_trainer:\t0.7s\t = Training   runtime\n",
            "INFO:autogluon.core.trainer.abstract_trainer:\t0.01s\t = Validation runtime\n",
            "INFO:autogluon.core.trainer.abstract_trainer:Fitting 9 L2 models ...\n",
            "INFO:autogluon.core.trainer.abstract_trainer:Fitting model: LightGBMXT_BAG_L2 ... Training model for up to 193.11s of the 193.09s of remaining time.\n",
            "INFO:autogluon.core.models.ensemble.bagged_ensemble_model:\tFitting 8 child models (S1F1 - S1F8) | Fitting with ParallelLocalFoldFittingStrategy\n",
            "INFO:autogluon.core.trainer.abstract_trainer:\t-60.41\t = Validation score   (-root_mean_squared_error)\n",
            "INFO:autogluon.core.trainer.abstract_trainer:\t44.56s\t = Training   runtime\n",
            "INFO:autogluon.core.trainer.abstract_trainer:\t2.95s\t = Validation runtime\n",
            "INFO:autogluon.core.trainer.abstract_trainer:Fitting model: LightGBM_BAG_L2 ... Training model for up to 145.48s of the 145.46s of remaining time.\n",
            "INFO:autogluon.core.models.ensemble.bagged_ensemble_model:\tFitting 8 child models (S1F1 - S1F8) | Fitting with ParallelLocalFoldFittingStrategy\n",
            "INFO:autogluon.core.trainer.abstract_trainer:\t-55.221\t = Validation score   (-root_mean_squared_error)\n",
            "INFO:autogluon.core.trainer.abstract_trainer:\t18.33s\t = Training   runtime\n",
            "INFO:autogluon.core.trainer.abstract_trainer:\t0.19s\t = Validation runtime\n",
            "INFO:autogluon.core.trainer.abstract_trainer:Fitting model: RandomForestMSE_BAG_L2 ... Training model for up to 124.58s of the 124.56s of remaining time.\n",
            "INFO:autogluon.core.trainer.abstract_trainer:\t-53.437\t = Validation score   (-root_mean_squared_error)\n",
            "INFO:autogluon.core.trainer.abstract_trainer:\t25.86s\t = Training   runtime\n",
            "INFO:autogluon.core.trainer.abstract_trainer:\t0.61s\t = Validation runtime\n",
            "INFO:autogluon.core.trainer.abstract_trainer:Fitting model: CatBoost_BAG_L2 ... Training model for up to 97.47s of the 97.45s of remaining time.\n",
            "INFO:autogluon.core.models.ensemble.bagged_ensemble_model:\tFitting 8 child models (S1F1 - S1F8) | Fitting with ParallelLocalFoldFittingStrategy\n",
            "INFO:autogluon.core.trainer.abstract_trainer:\t-55.5825\t = Validation score   (-root_mean_squared_error)\n",
            "INFO:autogluon.core.trainer.abstract_trainer:\t63.31s\t = Training   runtime\n",
            "INFO:autogluon.core.trainer.abstract_trainer:\t0.08s\t = Validation runtime\n",
            "INFO:autogluon.core.trainer.abstract_trainer:Fitting model: ExtraTreesMSE_BAG_L2 ... Training model for up to 31.88s of the 31.85s of remaining time.\n",
            "INFO:autogluon.core.trainer.abstract_trainer:\t-53.6736\t = Validation score   (-root_mean_squared_error)\n",
            "INFO:autogluon.core.trainer.abstract_trainer:\t7.62s\t = Training   runtime\n",
            "INFO:autogluon.core.trainer.abstract_trainer:\t0.59s\t = Validation runtime\n",
            "INFO:autogluon.core.trainer.abstract_trainer:Fitting model: NeuralNetFastAI_BAG_L2 ... Training model for up to 22.99s of the 22.96s of remaining time.\n",
            "INFO:autogluon.core.models.ensemble.bagged_ensemble_model:\tFitting 8 child models (S1F1 - S1F8) | Fitting with ParallelLocalFoldFittingStrategy\n",
            "INFO:autogluon.core.trainer.abstract_trainer:\t-58.9471\t = Validation score   (-root_mean_squared_error)\n",
            "INFO:autogluon.core.trainer.abstract_trainer:\t34.98s\t = Training   runtime\n",
            "INFO:autogluon.core.trainer.abstract_trainer:\t0.49s\t = Validation runtime\n",
            "INFO:autogluon.core.trainer.abstract_trainer:Completed 1/20 k-fold bagging repeats ...\n",
            "INFO:autogluon.core.trainer.abstract_trainer:Fitting model: WeightedEnsemble_L3 ... Training model for up to 360.0s of the -14.73s of remaining time.\n",
            "INFO:autogluon.core.trainer.abstract_trainer:\t-52.7031\t = Validation score   (-root_mean_squared_error)\n",
            "INFO:autogluon.core.trainer.abstract_trainer:\t0.37s\t = Training   runtime\n",
            "INFO:autogluon.core.trainer.abstract_trainer:\t0.0s\t = Validation runtime\n",
            "INFO:autogluon.tabular.learner.default_learner:AutoGluon training complete, total runtime = 615.14s ... Best model: \"WeightedEnsemble_L3\"\n",
            "INFO:autogluon.tabular.predictor.predictor:TabularPredictor saved. To load, use: predictor = TabularPredictor.load(\"AutogluonModels/ag-20220928_163218/\")\n"
          ]
        }
      ]
    },
    {
      "cell_type": "markdown",
      "metadata": {
        "tags": [],
        "id": "Fz-y8W_oC4X-"
      },
      "source": [
        "### Review AutoGluon's training run with ranking of models that did the best."
      ]
    },
    {
      "cell_type": "code",
      "execution_count": null,
      "metadata": {
        "id": "VKr_NwezC4X-",
        "colab": {
          "base_uri": "https://localhost:8080/"
        },
        "outputId": "61bf496c-d995-4de3-efb7-2b0af1631510"
      },
      "outputs": [
        {
          "output_type": "stream",
          "name": "stdout",
          "text": [
            "*** Summary of fit() ***\n",
            "Estimated performance of each model:\n",
            "                     model   score_val  pred_time_val    fit_time  pred_time_val_marginal  fit_time_marginal  stack_level  can_infer  fit_order\n",
            "0      WeightedEnsemble_L3  -52.703077      13.375396  469.191475                0.000817           0.367942            3       True         17\n",
            "1   RandomForestMSE_BAG_L2  -53.437033      12.103134  407.894128                0.605558          25.858896            2       True         13\n",
            "2     ExtraTreesMSE_BAG_L2  -53.673605      12.087683  389.659133                0.590107           7.623900            2       True         15\n",
            "3          LightGBM_BAG_L2  -55.221017      11.688646  400.365691                0.191070          18.330459            2       True         12\n",
            "4          CatBoost_BAG_L2  -55.582476      11.578871  445.347350                0.081295          63.312118            2       True         14\n",
            "5   NeuralNetFastAI_BAG_L2  -58.947114      11.987845  417.010277                0.490268          34.975045            2       True         16\n",
            "6        LightGBMXT_BAG_L2  -60.409975      14.451105  426.596363                2.953529          44.561131            2       True         11\n",
            "7    KNeighborsDist_BAG_L1  -84.125061       0.104009    0.028700                0.104009           0.028700            1       True          2\n",
            "8      WeightedEnsemble_L2  -84.125061       0.111878    0.729658                0.007869           0.700958            2       True         10\n",
            "9    KNeighborsUnif_BAG_L1 -101.546199       0.102685    0.034174                0.102685           0.034174            1       True          1\n",
            "10  RandomForestMSE_BAG_L1 -116.544294       0.559524    9.874644                0.559524           9.874644            1       True          5\n",
            "11    ExtraTreesMSE_BAG_L1 -124.588053       0.514158    5.828638                0.514158           5.828638            1       True          7\n",
            "12         CatBoost_BAG_L1 -130.472284       0.153201  186.330386                0.153201         186.330386            1       True          6\n",
            "13         LightGBM_BAG_L1 -131.054162       1.359355   21.948902                1.359355          21.948902            1       True          4\n",
            "14       LightGBMXT_BAG_L1 -131.460909       5.928924   52.716167                5.928924          52.716167            1       True          3\n",
            "15          XGBoost_BAG_L1 -131.624665       2.396393   21.045802                2.396393          21.045802            1       True          9\n",
            "16  NeuralNetFastAI_BAG_L1 -136.033328       0.379328   84.227819                0.379328          84.227819            1       True          8\n",
            "Number of models trained: 17\n",
            "Types of models trained:\n",
            "{'StackerEnsembleModel_LGB', 'StackerEnsembleModel_NNFastAiTabular', 'WeightedEnsembleModel', 'StackerEnsembleModel_RF', 'StackerEnsembleModel_CatBoost', 'StackerEnsembleModel_XGBoost', 'StackerEnsembleModel_XT', 'StackerEnsembleModel_KNN'}\n",
            "Bagging used: True  (with 8 folds)\n",
            "Multi-layer stack-ensembling used: True  (with 3 levels)\n",
            "Feature Metadata (Processed):\n",
            "(raw dtype, special dtypes):\n",
            "('float', [])                : 3 | ['temp', 'atemp', 'windspeed']\n",
            "('int', [])                  : 3 | ['season', 'weather', 'humidity']\n",
            "('int', ['bool'])            : 2 | ['holiday', 'workingday']\n",
            "('int', ['datetime_as_int']) : 5 | ['datetime', 'datetime.year', 'datetime.month', 'datetime.day', 'datetime.dayofweek']\n",
            "Plot summary of models saved to file: AutogluonModels/ag-20220928_163218/SummaryOfModels.html\n",
            "*** End of fit() summary ***\n"
          ]
        },
        {
          "output_type": "execute_result",
          "data": {
            "text/plain": [
              "{'model_types': {'KNeighborsUnif_BAG_L1': 'StackerEnsembleModel_KNN',\n",
              "  'KNeighborsDist_BAG_L1': 'StackerEnsembleModel_KNN',\n",
              "  'LightGBMXT_BAG_L1': 'StackerEnsembleModel_LGB',\n",
              "  'LightGBM_BAG_L1': 'StackerEnsembleModel_LGB',\n",
              "  'RandomForestMSE_BAG_L1': 'StackerEnsembleModel_RF',\n",
              "  'CatBoost_BAG_L1': 'StackerEnsembleModel_CatBoost',\n",
              "  'ExtraTreesMSE_BAG_L1': 'StackerEnsembleModel_XT',\n",
              "  'NeuralNetFastAI_BAG_L1': 'StackerEnsembleModel_NNFastAiTabular',\n",
              "  'XGBoost_BAG_L1': 'StackerEnsembleModel_XGBoost',\n",
              "  'WeightedEnsemble_L2': 'WeightedEnsembleModel',\n",
              "  'LightGBMXT_BAG_L2': 'StackerEnsembleModel_LGB',\n",
              "  'LightGBM_BAG_L2': 'StackerEnsembleModel_LGB',\n",
              "  'RandomForestMSE_BAG_L2': 'StackerEnsembleModel_RF',\n",
              "  'CatBoost_BAG_L2': 'StackerEnsembleModel_CatBoost',\n",
              "  'ExtraTreesMSE_BAG_L2': 'StackerEnsembleModel_XT',\n",
              "  'NeuralNetFastAI_BAG_L2': 'StackerEnsembleModel_NNFastAiTabular',\n",
              "  'WeightedEnsemble_L3': 'WeightedEnsembleModel'},\n",
              " 'model_performance': {'KNeighborsUnif_BAG_L1': -101.54619908446061,\n",
              "  'KNeighborsDist_BAG_L1': -84.12506123181602,\n",
              "  'LightGBMXT_BAG_L1': -131.46090891834504,\n",
              "  'LightGBM_BAG_L1': -131.054161598899,\n",
              "  'RandomForestMSE_BAG_L1': -116.54429428704391,\n",
              "  'CatBoost_BAG_L1': -130.4722836190554,\n",
              "  'ExtraTreesMSE_BAG_L1': -124.58805258915959,\n",
              "  'NeuralNetFastAI_BAG_L1': -136.03332765723104,\n",
              "  'XGBoost_BAG_L1': -131.62466543942023,\n",
              "  'WeightedEnsemble_L2': -84.12506123181602,\n",
              "  'LightGBMXT_BAG_L2': -60.4099747123859,\n",
              "  'LightGBM_BAG_L2': -55.22101672802937,\n",
              "  'RandomForestMSE_BAG_L2': -53.4370331673727,\n",
              "  'CatBoost_BAG_L2': -55.582476074932664,\n",
              "  'ExtraTreesMSE_BAG_L2': -53.67360521823053,\n",
              "  'NeuralNetFastAI_BAG_L2': -58.94711405490665,\n",
              "  'WeightedEnsemble_L3': -52.703076651291646},\n",
              " 'model_best': 'WeightedEnsemble_L3',\n",
              " 'model_paths': {'KNeighborsUnif_BAG_L1': 'AutogluonModels/ag-20220928_163218/models/KNeighborsUnif_BAG_L1/',\n",
              "  'KNeighborsDist_BAG_L1': 'AutogluonModels/ag-20220928_163218/models/KNeighborsDist_BAG_L1/',\n",
              "  'LightGBMXT_BAG_L1': 'AutogluonModels/ag-20220928_163218/models/LightGBMXT_BAG_L1/',\n",
              "  'LightGBM_BAG_L1': 'AutogluonModels/ag-20220928_163218/models/LightGBM_BAG_L1/',\n",
              "  'RandomForestMSE_BAG_L1': 'AutogluonModels/ag-20220928_163218/models/RandomForestMSE_BAG_L1/',\n",
              "  'CatBoost_BAG_L1': 'AutogluonModels/ag-20220928_163218/models/CatBoost_BAG_L1/',\n",
              "  'ExtraTreesMSE_BAG_L1': 'AutogluonModels/ag-20220928_163218/models/ExtraTreesMSE_BAG_L1/',\n",
              "  'NeuralNetFastAI_BAG_L1': 'AutogluonModels/ag-20220928_163218/models/NeuralNetFastAI_BAG_L1/',\n",
              "  'XGBoost_BAG_L1': 'AutogluonModels/ag-20220928_163218/models/XGBoost_BAG_L1/',\n",
              "  'WeightedEnsemble_L2': 'AutogluonModels/ag-20220928_163218/models/WeightedEnsemble_L2/',\n",
              "  'LightGBMXT_BAG_L2': 'AutogluonModels/ag-20220928_163218/models/LightGBMXT_BAG_L2/',\n",
              "  'LightGBM_BAG_L2': 'AutogluonModels/ag-20220928_163218/models/LightGBM_BAG_L2/',\n",
              "  'RandomForestMSE_BAG_L2': 'AutogluonModels/ag-20220928_163218/models/RandomForestMSE_BAG_L2/',\n",
              "  'CatBoost_BAG_L2': 'AutogluonModels/ag-20220928_163218/models/CatBoost_BAG_L2/',\n",
              "  'ExtraTreesMSE_BAG_L2': 'AutogluonModels/ag-20220928_163218/models/ExtraTreesMSE_BAG_L2/',\n",
              "  'NeuralNetFastAI_BAG_L2': 'AutogluonModels/ag-20220928_163218/models/NeuralNetFastAI_BAG_L2/',\n",
              "  'WeightedEnsemble_L3': 'AutogluonModels/ag-20220928_163218/models/WeightedEnsemble_L3/'},\n",
              " 'model_fit_times': {'KNeighborsUnif_BAG_L1': 0.034174442291259766,\n",
              "  'KNeighborsDist_BAG_L1': 0.02870011329650879,\n",
              "  'LightGBMXT_BAG_L1': 52.71616744995117,\n",
              "  'LightGBM_BAG_L1': 21.948902130126953,\n",
              "  'RandomForestMSE_BAG_L1': 9.874643802642822,\n",
              "  'CatBoost_BAG_L1': 186.3303861618042,\n",
              "  'ExtraTreesMSE_BAG_L1': 5.8286378383636475,\n",
              "  'NeuralNetFastAI_BAG_L1': 84.22781872749329,\n",
              "  'XGBoost_BAG_L1': 21.045801877975464,\n",
              "  'WeightedEnsemble_L2': 0.7009577751159668,\n",
              "  'LightGBMXT_BAG_L2': 44.56113076210022,\n",
              "  'LightGBM_BAG_L2': 18.330458879470825,\n",
              "  'RandomForestMSE_BAG_L2': 25.858895778656006,\n",
              "  'CatBoost_BAG_L2': 63.31211757659912,\n",
              "  'ExtraTreesMSE_BAG_L2': 7.623900413513184,\n",
              "  'NeuralNetFastAI_BAG_L2': 34.97504472732544,\n",
              "  'WeightedEnsemble_L3': 0.36794233322143555},\n",
              " 'model_pred_times': {'KNeighborsUnif_BAG_L1': 0.10268473625183105,\n",
              "  'KNeighborsDist_BAG_L1': 0.10400891304016113,\n",
              "  'LightGBMXT_BAG_L1': 5.928923606872559,\n",
              "  'LightGBM_BAG_L1': 1.3593552112579346,\n",
              "  'RandomForestMSE_BAG_L1': 0.5595242977142334,\n",
              "  'CatBoost_BAG_L1': 0.15320086479187012,\n",
              "  'ExtraTreesMSE_BAG_L1': 0.5141580104827881,\n",
              "  'NeuralNetFastAI_BAG_L1': 0.37932801246643066,\n",
              "  'XGBoost_BAG_L1': 2.396392583847046,\n",
              "  'WeightedEnsemble_L2': 0.007869243621826172,\n",
              "  'LightGBMXT_BAG_L2': 2.953529119491577,\n",
              "  'LightGBM_BAG_L2': 0.1910700798034668,\n",
              "  'RandomForestMSE_BAG_L2': 0.6055581569671631,\n",
              "  'CatBoost_BAG_L2': 0.08129453659057617,\n",
              "  'ExtraTreesMSE_BAG_L2': 0.590106725692749,\n",
              "  'NeuralNetFastAI_BAG_L2': 0.4902684688568115,\n",
              "  'WeightedEnsemble_L3': 0.0008165836334228516},\n",
              " 'num_bag_folds': 8,\n",
              " 'max_stack_level': 3,\n",
              " 'model_hyperparams': {'KNeighborsUnif_BAG_L1': {'use_orig_features': True,\n",
              "   'max_base_models': 25,\n",
              "   'max_base_models_per_type': 5,\n",
              "   'save_bag_folds': True,\n",
              "   'use_child_oof': True},\n",
              "  'KNeighborsDist_BAG_L1': {'use_orig_features': True,\n",
              "   'max_base_models': 25,\n",
              "   'max_base_models_per_type': 5,\n",
              "   'save_bag_folds': True,\n",
              "   'use_child_oof': True},\n",
              "  'LightGBMXT_BAG_L1': {'use_orig_features': True,\n",
              "   'max_base_models': 25,\n",
              "   'max_base_models_per_type': 5,\n",
              "   'save_bag_folds': True},\n",
              "  'LightGBM_BAG_L1': {'use_orig_features': True,\n",
              "   'max_base_models': 25,\n",
              "   'max_base_models_per_type': 5,\n",
              "   'save_bag_folds': True},\n",
              "  'RandomForestMSE_BAG_L1': {'use_orig_features': True,\n",
              "   'max_base_models': 25,\n",
              "   'max_base_models_per_type': 5,\n",
              "   'save_bag_folds': True,\n",
              "   'use_child_oof': True},\n",
              "  'CatBoost_BAG_L1': {'use_orig_features': True,\n",
              "   'max_base_models': 25,\n",
              "   'max_base_models_per_type': 5,\n",
              "   'save_bag_folds': True},\n",
              "  'ExtraTreesMSE_BAG_L1': {'use_orig_features': True,\n",
              "   'max_base_models': 25,\n",
              "   'max_base_models_per_type': 5,\n",
              "   'save_bag_folds': True,\n",
              "   'use_child_oof': True},\n",
              "  'NeuralNetFastAI_BAG_L1': {'use_orig_features': True,\n",
              "   'max_base_models': 25,\n",
              "   'max_base_models_per_type': 5,\n",
              "   'save_bag_folds': True},\n",
              "  'XGBoost_BAG_L1': {'use_orig_features': True,\n",
              "   'max_base_models': 25,\n",
              "   'max_base_models_per_type': 5,\n",
              "   'save_bag_folds': True},\n",
              "  'WeightedEnsemble_L2': {'use_orig_features': False,\n",
              "   'max_base_models': 25,\n",
              "   'max_base_models_per_type': 5,\n",
              "   'save_bag_folds': True},\n",
              "  'LightGBMXT_BAG_L2': {'use_orig_features': True,\n",
              "   'max_base_models': 25,\n",
              "   'max_base_models_per_type': 5,\n",
              "   'save_bag_folds': True},\n",
              "  'LightGBM_BAG_L2': {'use_orig_features': True,\n",
              "   'max_base_models': 25,\n",
              "   'max_base_models_per_type': 5,\n",
              "   'save_bag_folds': True},\n",
              "  'RandomForestMSE_BAG_L2': {'use_orig_features': True,\n",
              "   'max_base_models': 25,\n",
              "   'max_base_models_per_type': 5,\n",
              "   'save_bag_folds': True,\n",
              "   'use_child_oof': True},\n",
              "  'CatBoost_BAG_L2': {'use_orig_features': True,\n",
              "   'max_base_models': 25,\n",
              "   'max_base_models_per_type': 5,\n",
              "   'save_bag_folds': True},\n",
              "  'ExtraTreesMSE_BAG_L2': {'use_orig_features': True,\n",
              "   'max_base_models': 25,\n",
              "   'max_base_models_per_type': 5,\n",
              "   'save_bag_folds': True,\n",
              "   'use_child_oof': True},\n",
              "  'NeuralNetFastAI_BAG_L2': {'use_orig_features': True,\n",
              "   'max_base_models': 25,\n",
              "   'max_base_models_per_type': 5,\n",
              "   'save_bag_folds': True},\n",
              "  'WeightedEnsemble_L3': {'use_orig_features': False,\n",
              "   'max_base_models': 25,\n",
              "   'max_base_models_per_type': 5,\n",
              "   'save_bag_folds': True}},\n",
              " 'leaderboard':                      model   score_val  pred_time_val    fit_time  \\\n",
              " 0      WeightedEnsemble_L3  -52.703077      13.375396  469.191475   \n",
              " 1   RandomForestMSE_BAG_L2  -53.437033      12.103134  407.894128   \n",
              " 2     ExtraTreesMSE_BAG_L2  -53.673605      12.087683  389.659133   \n",
              " 3          LightGBM_BAG_L2  -55.221017      11.688646  400.365691   \n",
              " 4          CatBoost_BAG_L2  -55.582476      11.578871  445.347350   \n",
              " 5   NeuralNetFastAI_BAG_L2  -58.947114      11.987845  417.010277   \n",
              " 6        LightGBMXT_BAG_L2  -60.409975      14.451105  426.596363   \n",
              " 7    KNeighborsDist_BAG_L1  -84.125061       0.104009    0.028700   \n",
              " 8      WeightedEnsemble_L2  -84.125061       0.111878    0.729658   \n",
              " 9    KNeighborsUnif_BAG_L1 -101.546199       0.102685    0.034174   \n",
              " 10  RandomForestMSE_BAG_L1 -116.544294       0.559524    9.874644   \n",
              " 11    ExtraTreesMSE_BAG_L1 -124.588053       0.514158    5.828638   \n",
              " 12         CatBoost_BAG_L1 -130.472284       0.153201  186.330386   \n",
              " 13         LightGBM_BAG_L1 -131.054162       1.359355   21.948902   \n",
              " 14       LightGBMXT_BAG_L1 -131.460909       5.928924   52.716167   \n",
              " 15          XGBoost_BAG_L1 -131.624665       2.396393   21.045802   \n",
              " 16  NeuralNetFastAI_BAG_L1 -136.033328       0.379328   84.227819   \n",
              " \n",
              "     pred_time_val_marginal  fit_time_marginal  stack_level  can_infer  \\\n",
              " 0                 0.000817           0.367942            3       True   \n",
              " 1                 0.605558          25.858896            2       True   \n",
              " 2                 0.590107           7.623900            2       True   \n",
              " 3                 0.191070          18.330459            2       True   \n",
              " 4                 0.081295          63.312118            2       True   \n",
              " 5                 0.490268          34.975045            2       True   \n",
              " 6                 2.953529          44.561131            2       True   \n",
              " 7                 0.104009           0.028700            1       True   \n",
              " 8                 0.007869           0.700958            2       True   \n",
              " 9                 0.102685           0.034174            1       True   \n",
              " 10                0.559524           9.874644            1       True   \n",
              " 11                0.514158           5.828638            1       True   \n",
              " 12                0.153201         186.330386            1       True   \n",
              " 13                1.359355          21.948902            1       True   \n",
              " 14                5.928924          52.716167            1       True   \n",
              " 15                2.396393          21.045802            1       True   \n",
              " 16                0.379328          84.227819            1       True   \n",
              " \n",
              "     fit_order  \n",
              " 0          17  \n",
              " 1          13  \n",
              " 2          15  \n",
              " 3          12  \n",
              " 4          14  \n",
              " 5          16  \n",
              " 6          11  \n",
              " 7           2  \n",
              " 8          10  \n",
              " 9           1  \n",
              " 10          5  \n",
              " 11          7  \n",
              " 12          6  \n",
              " 13          4  \n",
              " 14          3  \n",
              " 15          9  \n",
              " 16          8  }"
            ]
          },
          "metadata": {},
          "execution_count": 21
        }
      ],
      "source": [
        "predictor.fit_summary()"
      ]
    },
    {
      "cell_type": "code",
      "source": [
        "predictor.leaderboard(silent=True).plot(kind= \"bar\", x = \"model\" , y = \"score_val\" ,color ='pink')"
      ],
      "metadata": {
        "id": "Nky9b4bEkDet",
        "colab": {
          "base_uri": "https://localhost:8080/",
          "height": 426
        },
        "outputId": "d45da93f-936e-4afd-d537-548f85df31bd"
      },
      "execution_count": null,
      "outputs": [
        {
          "output_type": "execute_result",
          "data": {
            "text/plain": [
              "<matplotlib.axes._subplots.AxesSubplot at 0x7f490075d510>"
            ]
          },
          "metadata": {},
          "execution_count": 25
        },
        {
          "output_type": "display_data",
          "data": {
            "text/plain": [
              "<Figure size 432x288 with 1 Axes>"
            ],
            "image/png": "[encoded data removed]"
          },
          "metadata": {
            "needs_background": "light"
          }
        }
      ]
    },
    {
      "cell_type": "markdown",
      "metadata": {
        "id": "3F5URPKGC4X-"
      },
      "source": [
        "### Create predictions from test dataset"
      ]
    },
    {
      "cell_type": "code",
      "execution_count": null,
      "metadata": {
        "id": "uKSsLgmPC4X-",
        "colab": {
          "base_uri": "https://localhost:8080/"
        },
        "outputId": "1f43be67-4223-4d62-e4c6-2ad462ddcf8e"
      },
      "outputs": [
        {
          "output_type": "execute_result",
          "data": {
            "text/plain": [
              "0    22.347845\n",
              "1    41.804237\n",
              "2    45.411419\n",
              "3    48.049984\n",
              "4    51.339310\n",
              "Name: count, dtype: float32"
            ]
          },
          "metadata": {},
          "execution_count": 26
        }
      ],
      "source": [
        "predictions = predictor.predict(test)\n",
        "predictions.head()"
      ]
    },
    {
      "cell_type": "markdown",
      "metadata": {
        "tags": [],
        "id": "6AsM6_DUC4YO"
      },
      "source": [
        "#### NOTE: Kaggle will reject the submission if we don't set everything to be > 0."
      ]
    },
    {
      "cell_type": "code",
      "execution_count": null,
      "metadata": {
        "id": "oPzjnwusC4YO",
        "colab": {
          "base_uri": "https://localhost:8080/"
        },
        "outputId": "051d9ef0-a058-4039-e3bf-9d2ebd012f5a"
      },
      "outputs": [
        {
          "output_type": "execute_result",
          "data": {
            "text/plain": [
              "count    6493.000000\n",
              "mean      101.960243\n",
              "std        90.181030\n",
              "min         2.007205\n",
              "25%        23.301001\n",
              "50%        66.548256\n",
              "75%       170.738281\n",
              "max       360.897400\n",
              "Name: count, dtype: float64"
            ]
          },
          "metadata": {},
          "execution_count": 28
        }
      ],
      "source": [
        "# Describe the `predictions` series to see if there are any negative values\n",
        "predictions.describe()"
      ]
    },
    {
      "cell_type": "code",
      "execution_count": null,
      "metadata": {
        "id": "h8PQrSVGC4YO"
      },
      "outputs": [],
      "source": [
        "# Set them to zero\n",
        "predictions = predictions.clip(lower=0)\n"
      ]
    },
    {
      "cell_type": "markdown",
      "metadata": {
        "id": "aY7Zvc3EC4YO"
      },
      "source": [
        "### Set predictions to submission dataframe, save, and submit"
      ]
    },
    {
      "cell_type": "code",
      "execution_count": null,
      "metadata": {
        "id": "Cvp8GKuWC4YO"
      },
      "outputs": [],
      "source": [
        "submission[\"count\"] = predictions\n",
        "submission[\"count\"] = submission[\"count\"].apply(lambda x : round(x))\n",
        "\n",
        "submission.to_csv(\"submission.csv\", index=False)"
      ]
    },
    {
      "cell_type": "code",
      "execution_count": null,
      "metadata": {
        "id": "h1hiNPvOC4YO",
        "colab": {
          "base_uri": "https://localhost:8080/"
        },
        "outputId": "a867765c-b0c8-4aac-c39b-20801320347e"
      },
      "outputs": [
        {
          "output_type": "stream",
          "name": "stdout",
          "text": [
            "100% 148k/148k [00:03<00:00, 44.9kB/s]\n",
            "Successfully submitted to Bike Sharing Demand"
          ]
        }
      ],
      "source": [
        "!kaggle competitions submit -c bike-sharing-demand -f submission.csv -m \"first raw submission\""
      ]
    },
    {
      "cell_type": "markdown",
      "metadata": {
        "id": "yEujoJjoC4YO"
      },
      "source": [
        "#### View submission via the command line or in the web browser under the competition's page - `My Submissions`"
      ]
    },
    {
      "cell_type": "code",
      "execution_count": null,
      "metadata": {
        "id": "XD_eEpiGC4YO",
        "colab": {
          "base_uri": "https://localhost:8080/"
        },
        "outputId": "38e95f26-731b-43be-f0c1-7ef9ca5628db"
      },
      "outputs": [
        {
          "output_type": "stream",
          "name": "stdout",
          "text": [
            "fileName        date                 description           status    publicScore  privateScore  \n",
            "--------------  -------------------  --------------------  --------  -----------  ------------  \n",
            "submission.csv  2022-09-28 16:48:42  first raw submission  complete  1.77954      1.77954       \n"
          ]
        }
      ],
      "source": [
        "!kaggle competitions submissions -c bike-sharing-demand | tail -n +1 | head -n 6"
      ]
    },
    {
      "cell_type": "markdown",
      "metadata": {
        "jp-MarkdownHeadingCollapsed": true,
        "tags": [],
        "id": "cTf9NBIxC4YO"
      },
      "source": [
        "\n",
        "\n",
        "\n",
        "#### Initial score of 1.77954      "
      ]
    },
    {
      "cell_type": "markdown",
      "metadata": {
        "id": "Lm9bXg-HC4YO"
      },
      "source": [
        "## Step 4: Exploratory Data Analysis and Creating an additional feature\n",
        "* Any additional feature will do, but a great suggestion would be to separate out the datetime into hour, day, or month parts."
      ]
    },
    {
      "cell_type": "code",
      "execution_count": null,
      "metadata": {
        "colab": {
          "base_uri": "https://localhost:8080/",
          "height": 582
        },
        "id": "QjTDBYFpC4YO",
        "outputId": "9e9c28b7-1a93-4d89-a4bb-2bff8eeeccd0"
      },
      "outputs": [
        {
          "output_type": "display_data",
          "data": {
            "text/plain": [
              "<Figure size 1440x720 with 12 Axes>"
            ],
            "image/png": "[encoded data removed]"
          },
          "metadata": {
            "needs_background": "light"
          }
        }
      ],
      "source": [
        "# Create a histogram of all features to show the distribution of each one relative to the data. This is part of the exploritory data analysis\n",
        "train.hist(figsize=(20,10));\n"
      ]
    },
    {
      "cell_type": "code",
      "source": [
        "# create new features\n",
        "train['year']  = pd.to_datetime ( train.loc[:, 'datetime'] ).dt.year\n",
        "train['month'] = pd.to_datetime ( train.loc[:, 'datetime'] ).dt.month\n",
        "train['day']   = pd.to_datetime ( train.loc[:, 'datetime'] ).dt.day\n",
        "train['hour']  = pd.to_datetime ( train.loc[:, 'datetime'] ).dt.hour\n",
        "\n",
        "test['year']  = pd.to_datetime ( test.loc[:, 'datetime'] ).dt.year\n",
        "test['month'] = pd.to_datetime ( test.loc[:, 'datetime'] ).dt.month\n",
        "test['day']   = pd.to_datetime ( test.loc[:, 'datetime'] ).dt.day\n",
        "test['hour']  = pd.to_datetime ( test.loc[:, 'datetime'] ).dt.hour\n"
      ],
      "metadata": {
        "id": "KXcl3yYkSdzZ"
      },
      "execution_count": null,
      "outputs": []
    },
    {
      "cell_type": "markdown",
      "metadata": {
        "id": "5KXmG2IKC4Yd"
      },
      "source": [
        "## Make category types for these so models know they are not just numbers\n",
        "* AutoGluon originally sees these as ints, but in reality they are int representations of a category.\n",
        "* Setting the dtype to category will classify these as categories in AutoGluon."
      ]
    },
    {
      "cell_type": "code",
      "source": [
        "train[\"season\"]    = train[\"season\"].astype(\"category\")\n",
        "train[\"holiday\"]   = train[\"holiday\"].astype(\"category\")\n",
        "train[\"workingday\"]= train[\"workingday\"].astype(\"category\")\n",
        "train[\"weather\"]   = train[\"weather\"].astype(\"category\")\n",
        "train[\"year\"]      = train[\"year\"].astype(\"category\")\n",
        "train[\"month\"]     = train[\"month\"].astype(\"category\")\n",
        "train[\"day\"]       = train[\"day\"].astype(\"category\")\n",
        "train[\"hour\"]      = train[\"hour\"].astype(\"category\") \n",
        "\n",
        "\n",
        "test[\"season\"]    = test[\"season\"].astype(\"category\")\n",
        "test[\"holiday\"]   = test[\"holiday\"].astype(\"category\")\n",
        "test[\"workingday\"]= test[\"workingday\"].astype(\"category\")\n",
        "test[\"weather\"]   = test[\"weather\"].astype(\"category\")\n",
        "test[\"year\"]      = test[\"year\"].astype(\"category\")\n",
        "test[\"month\"]     = test[\"month\"].astype(\"category\")\n",
        "test[\"day\"]       = test[\"day\"].astype(\"category\")\n",
        "test[\"hour\"]      = test[\"hour\"].astype(\"category\")\n",
        "\n",
        "train.info()"
      ],
      "metadata": {
        "colab": {
          "base_uri": "https://localhost:8080/"
        },
        "id": "3j8NqgdbcXTm",
        "outputId": "b7f55191-0c9c-4440-8fc4-ee75bc277df6"
      },
      "execution_count": null,
      "outputs": [
        {
          "output_type": "stream",
          "name": "stdout",
          "text": [
            "<class 'pandas.core.frame.DataFrame'>\n",
            "RangeIndex: 10886 entries, 0 to 10885\n",
            "Data columns (total 16 columns):\n",
            " #   Column      Non-Null Count  Dtype         \n",
            "---  ------      --------------  -----         \n",
            " 0   datetime    10886 non-null  datetime64[ns]\n",
            " 1   season      10886 non-null  category      \n",
            " 2   holiday     10886 non-null  category      \n",
            " 3   workingday  10886 non-null  category      \n",
            " 4   weather     10886 non-null  category      \n",
            " 5   temp        10886 non-null  float64       \n",
            " 6   atemp       10886 non-null  float64       \n",
            " 7   humidity    10886 non-null  int64         \n",
            " 8   windspeed   10886 non-null  float64       \n",
            " 9   casual      10886 non-null  int64         \n",
            " 10  registered  10886 non-null  int64         \n",
            " 11  count       10886 non-null  int64         \n",
            " 12  year        10886 non-null  category      \n",
            " 13  month       10886 non-null  category      \n",
            " 14  day         10886 non-null  category      \n",
            " 15  hour        10886 non-null  category      \n",
            "dtypes: category(8), datetime64[ns](1), float64(3), int64(4)\n",
            "memory usage: 768.1 KB\n"
          ]
        }
      ]
    },
    {
      "cell_type": "code",
      "execution_count": null,
      "metadata": {
        "id": "-dBJiSlqC4Yd",
        "colab": {
          "base_uri": "https://localhost:8080/",
          "height": 333
        },
        "outputId": "e7364c98-04a6-4783-cff7-7371422a3bd7"
      },
      "outputs": [
        {
          "output_type": "execute_result",
          "data": {
            "text/plain": [
              "             datetime season holiday workingday weather  temp   atemp  \\\n",
              "0 2011-01-01 00:00:00      1       0          0       1  9.84  14.395   \n",
              "1 2011-01-01 01:00:00      1       0          0       1  9.02  13.635   \n",
              "2 2011-01-01 02:00:00      1       0          0       1  9.02  13.635   \n",
              "3 2011-01-01 03:00:00      1       0          0       1  9.84  14.395   \n",
              "4 2011-01-01 04:00:00      1       0          0       1  9.84  14.395   \n",
              "\n",
              "   humidity  windspeed  casual  registered  count  year month day hour  \n",
              "0        81        0.0       3          13     16  2011     1   1    0  \n",
              "1        80        0.0       8          32     40  2011     1   1    1  \n",
              "2        80        0.0       5          27     32  2011     1   1    2  \n",
              "3        75        0.0       3          10     13  2011     1   1    3  \n",
              "4        75        0.0       0           1      1  2011     1   1    4  "
            ],
            "text/html": [
              "\n",
              "  <div id=\"df-9bce72f9-7b52-49f2-a561-c3fbd445e953\">\n",
              "    <div class=\"colab-df-container\">\n",
              "      <div>\n",
              "<style scoped>\n",
              "    .dataframe tbody tr th:only-of-type {\n",
              "        vertical-align: middle;\n",
              "    }\n",
              "\n",
              "    .dataframe tbody tr th {\n",
              "        vertical-align: top;\n",
              "    }\n",
              "\n",
              "    .dataframe thead th {\n",
              "        text-align: right;\n",
              "    }\n",
              "</style>\n",
              "<table border=\"1\" class=\"dataframe\">\n",
              "  <thead>\n",
              "    <tr style=\"text-align: right;\">\n",
              "      <th></th>\n",
              "      <th>datetime</th>\n",
              "      <th>season</th>\n",
              "      <th>holiday</th>\n",
              "      <th>workingday</th>\n",
              "      <th>weather</th>\n",
              "      <th>temp</th>\n",
              "      <th>atemp</th>\n",
              "      <th>humidity</th>\n",
              "      <th>windspeed</th>\n",
              "      <th>casual</th>\n",
              "      <th>registered</th>\n",
              "      <th>count</th>\n",
              "      <th>year</th>\n",
              "      <th>month</th>\n",
              "      <th>day</th>\n",
              "      <th>hour</th>\n",
              "    </tr>\n",
              "  </thead>\n",
              "  <tbody>\n",
              "    <tr>\n",
              "      <th>0</th>\n",
              "      <td>2011-01-01 00:00:00</td>\n",
              "      <td>1</td>\n",
              "      <td>0</td>\n",
              "      <td>0</td>\n",
              "      <td>1</td>\n",
              "      <td>9.84</td>\n",
              "      <td>14.395</td>\n",
              "      <td>81</td>\n",
              "      <td>0.0</td>\n",
              "      <td>3</td>\n",
              "      <td>13</td>\n",
              "      <td>16</td>\n",
              "      <td>2011</td>\n",
              "      <td>1</td>\n",
              "      <td>1</td>\n",
              "      <td>0</td>\n",
              "    </tr>\n",
              "    <tr>\n",
              "      <th>1</th>\n",
              "      <td>2011-01-01 01:00:00</td>\n",
              "      <td>1</td>\n",
              "      <td>0</td>\n",
              "      <td>0</td>\n",
              "      <td>1</td>\n",
              "      <td>9.02</td>\n",
              "      <td>13.635</td>\n",
              "      <td>80</td>\n",
              "      <td>0.0</td>\n",
              "      <td>8</td>\n",
              "      <td>32</td>\n",
              "      <td>40</td>\n",
              "      <td>2011</td>\n",
              "      <td>1</td>\n",
              "      <td>1</td>\n",
              "      <td>1</td>\n",
              "    </tr>\n",
              "    <tr>\n",
              "      <th>2</th>\n",
              "      <td>2011-01-01 02:00:00</td>\n",
              "      <td>1</td>\n",
              "      <td>0</td>\n",
              "      <td>0</td>\n",
              "      <td>1</td>\n",
              "      <td>9.02</td>\n",
              "      <td>13.635</td>\n",
              "      <td>80</td>\n",
              "      <td>0.0</td>\n",
              "      <td>5</td>\n",
              "      <td>27</td>\n",
              "      <td>32</td>\n",
              "      <td>2011</td>\n",
              "      <td>1</td>\n",
              "      <td>1</td>\n",
              "      <td>2</td>\n",
              "    </tr>\n",
              "    <tr>\n",
              "      <th>3</th>\n",
              "      <td>2011-01-01 03:00:00</td>\n",
              "      <td>1</td>\n",
              "      <td>0</td>\n",
              "      <td>0</td>\n",
              "      <td>1</td>\n",
              "      <td>9.84</td>\n",
              "      <td>14.395</td>\n",
              "      <td>75</td>\n",
              "      <td>0.0</td>\n",
              "      <td>3</td>\n",
              "      <td>10</td>\n",
              "      <td>13</td>\n",
              "      <td>2011</td>\n",
              "      <td>1</td>\n",
              "      <td>1</td>\n",
              "      <td>3</td>\n",
              "    </tr>\n",
              "    <tr>\n",
              "      <th>4</th>\n",
              "      <td>2011-01-01 04:00:00</td>\n",
              "      <td>1</td>\n",
              "      <td>0</td>\n",
              "      <td>0</td>\n",
              "      <td>1</td>\n",
              "      <td>9.84</td>\n",
              "      <td>14.395</td>\n",
              "      <td>75</td>\n",
              "      <td>0.0</td>\n",
              "      <td>0</td>\n",
              "      <td>1</td>\n",
              "      <td>1</td>\n",
              "      <td>2011</td>\n",
              "      <td>1</td>\n",
              "      <td>1</td>\n",
              "      <td>4</td>\n",
              "    </tr>\n",
              "  </tbody>\n",
              "</table>\n",
              "</div>\n",
              "      <button class=\"colab-df-convert\" onclick=\"convertToInteractive('df-9bce72f9-7b52-49f2-a561-c3fbd445e953')\"\n",
              "              title=\"Convert this dataframe to an interactive table.\"\n",
              "              style=\"display:none;\">\n",
              "        \n",
              "  <svg xmlns=\"http://www.w3.org/2000/svg\" height=\"24px\"viewBox=\"0 0 24 24\"\n",
              "       width=\"24px\">\n",
              "    <path d=\"M0 0h24v24H0V0z\" fill=\"none\"/>\n",
              "    <path d=\"M18.56 5.44l.94 2.06.94-2.06 2.06-.94-2.06-.94-.94-2.06-.94 2.06-2.06.94zm-11 1L8.5 8.5l.94-2.06 2.06-.94-2.06-.94L8.5 2.5l-.94 2.06-2.06.94zm10 10l.94 2.06.94-2.06 2.06-.94-2.06-.94-.94-2.06-.94 2.06-2.06.94z\"/><path d=\"M17.41 7.96l-1.37-1.37c-.4-.4-.92-.59-1.43-.59-.52 0-1.04.2-1.43.59L10.3 9.45l-7.72 7.72c-.78.78-.78 2.05 0 2.83L4 21.41c.39.39.9.59 1.41.59.51 0 1.02-.2 1.41-.59l7.78-7.78 2.81-2.81c.8-.78.8-2.07 0-2.86zM5.41 20L4 18.59l7.72-7.72 1.47 1.35L5.41 20z\"/>\n",
              "  </svg>\n",
              "      </button>\n",
              "      \n",
              "  <style>\n",
              "    .colab-df-container {\n",
              "      display:flex;\n",
              "      flex-wrap:wrap;\n",
              "      gap: 12px;\n",
              "    }\n",
              "\n",
              "    .colab-df-convert {\n",
              "      background-color: #E8F0FE;\n",
              "      border: none;\n",
              "      border-radius: 50%;\n",
              "      cursor: pointer;\n",
              "      display: none;\n",
              "      fill: #1967D2;\n",
              "      height: 32px;\n",
              "      padding: 0 0 0 0;\n",
              "      width: 32px;\n",
              "    }\n",
              "\n",
              "    .colab-df-convert:hover {\n",
              "      background-color: #E2EBFA;\n",
              "      box-shadow: 0px 1px 2px rgba(60, 64, 67, 0.3), 0px 1px 3px 1px rgba(60, 64, 67, 0.15);\n",
              "      fill: #174EA6;\n",
              "    }\n",
              "\n",
              "    [theme=dark] .colab-df-convert {\n",
              "      background-color: #3B4455;\n",
              "      fill: #D2E3FC;\n",
              "    }\n",
              "\n",
              "    [theme=dark] .colab-df-convert:hover {\n",
              "      background-color: #434B5C;\n",
              "      box-shadow: 0px 1px 3px 1px rgba(0, 0, 0, 0.15);\n",
              "      filter: drop-shadow(0px 1px 2px rgba(0, 0, 0, 0.3));\n",
              "      fill: #FFFFFF;\n",
              "    }\n",
              "  </style>\n",
              "\n",
              "      <script>\n",
              "        const buttonEl =\n",
              "          document.querySelector('#df-9bce72f9-7b52-49f2-a561-c3fbd445e953 button.colab-df-convert');\n",
              "        buttonEl.style.display =\n",
              "          google.colab.kernel.accessAllowed ? 'block' : 'none';\n",
              "\n",
              "        async function convertToInteractive(key) {\n",
              "          const element = document.querySelector('#df-9bce72f9-7b52-49f2-a561-c3fbd445e953');\n",
              "          const dataTable =\n",
              "            await google.colab.kernel.invokeFunction('convertToInteractive',\n",
              "                                                     [key], {});\n",
              "          if (!dataTable) return;\n",
              "\n",
              "          const docLinkHtml = 'Like what you see? Visit the ' +\n",
              "            '<a target=\"_blank\" href=https://colab.research.google.com/notebooks/data_table.ipynb>data table notebook</a>'\n",
              "            + ' to learn more about interactive tables.';\n",
              "          element.innerHTML = '';\n",
              "          dataTable['output_type'] = 'display_data';\n",
              "          await google.colab.output.renderOutput(dataTable, element);\n",
              "          const docLink = document.createElement('div');\n",
              "          docLink.innerHTML = docLinkHtml;\n",
              "          element.appendChild(docLink);\n",
              "        }\n",
              "      </script>\n",
              "    </div>\n",
              "  </div>\n",
              "  "
            ]
          },
          "metadata": {},
          "execution_count": 40
        }
      ],
      "source": [
        "# View are new feature\n",
        "train.head()"
      ]
    },
    {
      "cell_type": "code",
      "execution_count": null,
      "metadata": {
        "id": "MEABC7GcC4Yd",
        "colab": {
          "base_uri": "https://localhost:8080/",
          "height": 432
        },
        "outputId": "c7ac2d61-dc40-48d6-ed3d-a47ff78133be"
      },
      "outputs": [
        {
          "output_type": "display_data",
          "data": {
            "text/plain": [
              "<Figure size 1440x720 with 9 Axes>"
            ],
            "image/png": "[encoded data removed]"
          },
          "metadata": {
            "needs_background": "light"
          }
        }
      ],
      "source": [
        "# View histogram of all features again now with the hour feature\n",
        "train.hist(figsize=(20,10));"
      ]
    },
    {
      "cell_type": "markdown",
      "metadata": {
        "id": "MxgRNduEC4Yd"
      },
      "source": [
        "## Step 5: Rerun the model with the same settings as before, just with more features"
      ]
    },
    {
      "cell_type": "code",
      "source": [
        "train.columns"
      ],
      "metadata": {
        "colab": {
          "base_uri": "https://localhost:8080/"
        },
        "id": "G_XnSNnzm0Oj",
        "outputId": "6afdeeba-c381-4fe7-9147-41d67d8b54e0"
      },
      "execution_count": null,
      "outputs": [
        {
          "output_type": "execute_result",
          "data": {
            "text/plain": [
              "Index(['datetime', 'season', 'holiday', 'workingday', 'weather', 'temp',\n",
              "       'atemp', 'humidity', 'windspeed', 'casual', 'registered', 'count',\n",
              "       'year', 'month', 'day', 'hour'],\n",
              "      dtype='object')"
            ]
          },
          "metadata": {},
          "execution_count": 42
        }
      ]
    },
    {
      "cell_type": "code",
      "execution_count": null,
      "metadata": {
        "id": "5DOG_qojC4Yd",
        "colab": {
          "base_uri": "https://localhost:8080/"
        },
        "outputId": "db6af88c-e4c4-4c2d-e518-6e77018d5c57"
      },
      "outputs": [
        {
          "output_type": "stream",
          "name": "stderr",
          "text": [
            "Level 25:autogluon.common.utils.utils:No path specified. Models will be saved in: \"AutogluonModels/ag-20220928_171325/\"\n",
            "INFO:autogluon.tabular.predictor.predictor:Presets specified: ['best_quality']\n",
            "INFO:autogluon.tabular.predictor.predictor:Stack configuration (auto_stack=True): num_stack_levels=1, num_bag_folds=8, num_bag_sets=20\n",
            "INFO:autogluon.tabular.learner.default_learner:Beginning AutoGluon training ... Time limit = 600s\n",
            "INFO:autogluon.tabular.learner.default_learner:AutoGluon will save models to \"AutogluonModels/ag-20220928_171325/\"\n",
            "INFO:autogluon.tabular.learner.default_learner:AutoGluon Version:  0.5.2\n",
            "INFO:autogluon.tabular.learner.default_learner:Python Version:     3.7.14\n",
            "INFO:autogluon.tabular.learner.default_learner:Operating System:   Linux\n",
            "INFO:autogluon.tabular.learner.default_learner:Train Data Rows:    10886\n",
            "INFO:autogluon.tabular.learner.default_learner:Train Data Columns: 11\n",
            "INFO:autogluon.tabular.learner.default_learner:Label Column: count\n",
            "INFO:autogluon.tabular.learner.default_learner:Preprocessing data ...\n",
            "Level 25:autogluon.core.utils.utils:AutoGluon infers your prediction problem is: 'regression' (because dtype of label-column == int and many unique label-values observed).\n",
            "INFO:autogluon.core.utils.utils:\tLabel info (max, min, mean, stddev): (977, 1, 191.57413, 181.14445)\n",
            "Level 25:autogluon.core.utils.utils:\tIf 'regression' is not the correct problem_type, please manually specify the problem_type parameter during predictor init (You may specify problem_type as one of: ['binary', 'multiclass', 'regression'])\n",
            "INFO:autogluon.tabular.learner.default_learner:Using Feature Generators to preprocess the data ...\n",
            "INFO:autogluon.features.generators.abstract:Fitting AutoMLPipelineFeatureGenerator...\n",
            "INFO:autogluon.features.generators.abstract:\tAvailable Memory:                    11627.01 MB\n",
            "INFO:autogluon.features.generators.abstract:\tTrain Data (Original)  Memory Usage: 0.35 MB (0.0% of available memory)\n",
            "INFO:autogluon.features.generators.abstract:\tInferring data type of each feature based on column values. Set feature_metadata_in to manually specify special dtypes of the features.\n",
            "INFO:autogluon.features.generators.abstract:\tStage 1 Generators:\n",
            "INFO:autogluon.features.generators.abstract:\t\tFitting AsTypeFeatureGenerator...\n",
            "INFO:autogluon.features.generators.abstract:\t\t\tNote: Converting 3 features to boolean dtype as they only contain 2 unique values.\n",
            "INFO:autogluon.features.generators.abstract:\tStage 2 Generators:\n",
            "INFO:autogluon.features.generators.abstract:\t\tFitting FillNaFeatureGenerator...\n",
            "INFO:autogluon.features.generators.abstract:\tStage 3 Generators:\n",
            "INFO:autogluon.features.generators.abstract:\t\tFitting IdentityFeatureGenerator...\n",
            "INFO:autogluon.features.generators.abstract:\t\tFitting CategoryFeatureGenerator...\n",
            "INFO:autogluon.features.generators.abstract:\t\t\tFitting CategoryMemoryMinimizeFeatureGenerator...\n",
            "INFO:autogluon.features.generators.abstract:\tStage 4 Generators:\n",
            "INFO:autogluon.features.generators.abstract:\t\tFitting DropUniqueFeatureGenerator...\n",
            "INFO:autogluon.features.generators.abstract:\tTypes of features in original data (raw dtype, special dtypes):\n",
            "INFO:autogluon.common.features.feature_metadata:\t\t('category', []) : 8 | ['season', 'holiday', 'workingday', 'weather', 'year', ...]\n",
            "INFO:autogluon.common.features.feature_metadata:\t\t('float', [])    : 2 | ['temp', 'windspeed']\n",
            "INFO:autogluon.common.features.feature_metadata:\t\t('int', [])      : 1 | ['humidity']\n",
            "INFO:autogluon.features.generators.abstract:\tTypes of features in processed data (raw dtype, special dtypes):\n",
            "INFO:autogluon.common.features.feature_metadata:\t\t('category', [])  : 5 | ['season', 'weather', 'month', 'day', 'hour']\n",
            "INFO:autogluon.common.features.feature_metadata:\t\t('float', [])     : 2 | ['temp', 'windspeed']\n",
            "INFO:autogluon.common.features.feature_metadata:\t\t('int', [])       : 1 | ['humidity']\n",
            "INFO:autogluon.common.features.feature_metadata:\t\t('int', ['bool']) : 3 | ['holiday', 'workingday', 'year']\n",
            "INFO:autogluon.features.generators.abstract:\t0.1s = Fit runtime\n",
            "INFO:autogluon.features.generators.abstract:\t11 features in original data used to generate 11 features in processed data.\n",
            "INFO:autogluon.features.generators.abstract:\tTrain Data (Processed) Memory Usage: 0.35 MB (0.0% of available memory)\n",
            "INFO:autogluon.tabular.learner.default_learner:Data preprocessing and feature engineering runtime = 0.2s ...\n",
            "Level 25:autogluon.core.trainer.abstract_trainer:AutoGluon will gauge predictive performance using evaluation metric: 'root_mean_squared_error'\n",
            "Level 25:autogluon.core.trainer.abstract_trainer:\tThis metric's sign has been flipped to adhere to being higher_is_better. The metric score can be multiplied by -1 to get the metric value.\n",
            "INFO:autogluon.core.trainer.abstract_trainer:\tTo change this, specify the eval_metric parameter of Predictor()\n",
            "INFO:autogluon.core.trainer.abstract_trainer:AutoGluon will fit 2 stack levels (L1 to L2) ...\n",
            "INFO:autogluon.core.trainer.abstract_trainer:Fitting 11 L1 models ...\n",
            "INFO:autogluon.core.trainer.abstract_trainer:Fitting model: KNeighborsUnif_BAG_L1 ... Training model for up to 399.76s of the 599.79s of remaining time.\n",
            "INFO:autogluon.core.trainer.abstract_trainer:\t-165.1421\t = Validation score   (-root_mean_squared_error)\n",
            "INFO:autogluon.core.trainer.abstract_trainer:\t0.03s\t = Training   runtime\n",
            "INFO:autogluon.core.trainer.abstract_trainer:\t0.1s\t = Validation runtime\n",
            "INFO:autogluon.core.trainer.abstract_trainer:Fitting model: KNeighborsDist_BAG_L1 ... Training model for up to 399.5s of the 599.53s of remaining time.\n",
            "INFO:autogluon.core.trainer.abstract_trainer:\t-179.4216\t = Validation score   (-root_mean_squared_error)\n",
            "INFO:autogluon.core.trainer.abstract_trainer:\t0.02s\t = Training   runtime\n",
            "INFO:autogluon.core.trainer.abstract_trainer:\t0.1s\t = Validation runtime\n",
            "INFO:autogluon.core.trainer.abstract_trainer:Fitting model: LightGBMXT_BAG_L1 ... Training model for up to 399.26s of the 599.29s of remaining time.\n",
            "INFO:autogluon.core.models.ensemble.bagged_ensemble_model:\tFitting 8 child models (S1F1 - S1F8) | Fitting with ParallelLocalFoldFittingStrategy\n",
            "INFO:autogluon.core.trainer.abstract_trainer:\t-38.1013\t = Validation score   (-root_mean_squared_error)\n",
            "INFO:autogluon.core.trainer.abstract_trainer:\t60.27s\t = Training   runtime\n",
            "INFO:autogluon.core.trainer.abstract_trainer:\t6.57s\t = Validation runtime\n",
            "INFO:autogluon.core.trainer.abstract_trainer:Fitting model: LightGBM_BAG_L1 ... Training model for up to 336.36s of the 536.39s of remaining time.\n",
            "INFO:autogluon.core.models.ensemble.bagged_ensemble_model:\tFitting 8 child models (S1F1 - S1F8) | Fitting with ParallelLocalFoldFittingStrategy\n",
            "INFO:autogluon.core.trainer.abstract_trainer:\t-39.2145\t = Validation score   (-root_mean_squared_error)\n",
            "INFO:autogluon.core.trainer.abstract_trainer:\t33.25s\t = Training   runtime\n",
            "INFO:autogluon.core.trainer.abstract_trainer:\t2.06s\t = Validation runtime\n",
            "INFO:autogluon.core.trainer.abstract_trainer:Fitting model: RandomForestMSE_BAG_L1 ... Training model for up to 300.35s of the 500.37s of remaining time.\n",
            "INFO:autogluon.core.trainer.abstract_trainer:\t-42.3303\t = Validation score   (-root_mean_squared_error)\n",
            "INFO:autogluon.core.trainer.abstract_trainer:\t7.92s\t = Training   runtime\n",
            "INFO:autogluon.core.trainer.abstract_trainer:\t0.57s\t = Validation runtime\n",
            "INFO:autogluon.core.trainer.abstract_trainer:Fitting model: CatBoost_BAG_L1 ... Training model for up to 291.18s of the 491.21s of remaining time.\n",
            "INFO:autogluon.core.models.ensemble.bagged_ensemble_model:\tFitting 8 child models (S1F1 - S1F8) | Fitting with ParallelLocalFoldFittingStrategy\n"
          ]
        }
      ],
      "source": [
        "new_features = [\"season\",\"holiday\",\"workingday\",\"weather\",\"temp\",\"humidity\",\"windspeed\",\"count\",\"year\", \"month\", \"day\", \"hour\"]\n",
        "\n",
        "predictor_new_features = TabularPredictor(\n",
        "    label=\"count\",\n",
        "    eval_metric=\"root_mean_squared_error\"\n",
        ").fit(\n",
        "    train[new_features],\n",
        "    time_limit= 600 ,\n",
        "    presets = \"best_quality\"\n",
        "    )\n"
      ]
    },
    {
      "cell_type": "code",
      "execution_count": null,
      "metadata": {
        "id": "3_VdUCG2C4Yd",
        "colab": {
          "base_uri": "https://localhost:8080/"
        },
        "outputId": "b5c589d1-3779-4844-dd77-2b49d75df25f"
      },
      "outputs": [
        {
          "output_type": "stream",
          "name": "stdout",
          "text": [
            "*** Summary of fit() ***\n",
            "Estimated performance of each model:\n",
            "                     model   score_val  pred_time_val    fit_time  pred_time_val_marginal  fit_time_marginal  stack_level  can_infer  fit_order\n",
            "0      WeightedEnsemble_L3  -37.035030      10.270353  543.249524                0.001150           0.429277            3       True         16\n",
            "1      WeightedEnsemble_L2  -37.188850       8.534148  395.403774                0.001056           0.559861            2       True          9\n",
            "2     ExtraTreesMSE_BAG_L2  -37.214363       9.567735  406.144128                0.826973          11.253965            2       True         14\n",
            "3          CatBoost_BAG_L2  -37.516885       8.885684  481.032956                0.144921          86.142793            2       True         13\n",
            "4          LightGBM_BAG_L2  -37.733041       8.871695  411.420313                0.130932          16.530149            2       True         11\n",
            "5   RandomForestMSE_BAG_L2  -37.919016       9.359673  419.067823                0.618910          24.177660            2       True         12\n",
            "6   NeuralNetFastAI_BAG_L2  -37.966110       9.166377  428.893340                0.425614          34.003176            2       True         15\n",
            "7        LightGBMXT_BAG_L1  -38.101300       4.352234   42.931248                4.352234          42.931248            1       True          3\n",
            "8        LightGBMXT_BAG_L2  -38.361034       9.030330  412.719503                0.289567          17.829340            2       True         10\n",
            "9          LightGBM_BAG_L1  -39.214484       1.871285   26.210327                1.871285          26.210327            1       True          4\n",
            "10    ExtraTreesMSE_BAG_L1  -41.152326       0.739649    7.704841                0.739649           7.704841            1       True          7\n",
            "11         CatBoost_BAG_L1  -41.450850       0.647738  266.748461                0.647738         266.748461            1       True          6\n",
            "12  NeuralNetFastAI_BAG_L1  -42.226437       0.373134   43.429425                0.373134          43.429425            1       True          8\n",
            "13  RandomForestMSE_BAG_L1  -42.330255       0.549053    7.819612                0.549053           7.819612            1       True          5\n",
            "14   KNeighborsUnif_BAG_L1 -165.142071       0.103209    0.031353                0.103209           0.031353            1       True          1\n",
            "15   KNeighborsDist_BAG_L1 -179.421615       0.104462    0.014896                0.104462           0.014896            1       True          2\n",
            "Number of models trained: 16\n",
            "Types of models trained:\n",
            "{'StackerEnsembleModel_LGB', 'StackerEnsembleModel_NNFastAiTabular', 'WeightedEnsembleModel', 'StackerEnsembleModel_RF', 'StackerEnsembleModel_CatBoost', 'StackerEnsembleModel_XT', 'StackerEnsembleModel_KNN'}\n",
            "Bagging used: True  (with 8 folds)\n",
            "Multi-layer stack-ensembling used: True  (with 3 levels)\n",
            "Feature Metadata (Processed):\n",
            "(raw dtype, special dtypes):\n",
            "('category', [])  : 5 | ['season', 'weather', 'month', 'day', 'hour']\n",
            "('float', [])     : 2 | ['temp', 'windspeed']\n",
            "('int', [])       : 1 | ['humidity']\n",
            "('int', ['bool']) : 3 | ['holiday', 'workingday', 'year']\n",
            "Plot summary of models saved to file: AutogluonModels/ag-20220928_165020/SummaryOfModels.html\n",
            "*** End of fit() summary ***\n"
          ]
        },
        {
          "output_type": "execute_result",
          "data": {
            "text/plain": [
              "{'model_types': {'KNeighborsUnif_BAG_L1': 'StackerEnsembleModel_KNN',\n",
              "  'KNeighborsDist_BAG_L1': 'StackerEnsembleModel_KNN',\n",
              "  'LightGBMXT_BAG_L1': 'StackerEnsembleModel_LGB',\n",
              "  'LightGBM_BAG_L1': 'StackerEnsembleModel_LGB',\n",
              "  'RandomForestMSE_BAG_L1': 'StackerEnsembleModel_RF',\n",
              "  'CatBoost_BAG_L1': 'StackerEnsembleModel_CatBoost',\n",
              "  'ExtraTreesMSE_BAG_L1': 'StackerEnsembleModel_XT',\n",
              "  'NeuralNetFastAI_BAG_L1': 'StackerEnsembleModel_NNFastAiTabular',\n",
              "  'WeightedEnsemble_L2': 'WeightedEnsembleModel',\n",
              "  'LightGBMXT_BAG_L2': 'StackerEnsembleModel_LGB',\n",
              "  'LightGBM_BAG_L2': 'StackerEnsembleModel_LGB',\n",
              "  'RandomForestMSE_BAG_L2': 'StackerEnsembleModel_RF',\n",
              "  'CatBoost_BAG_L2': 'StackerEnsembleModel_CatBoost',\n",
              "  'ExtraTreesMSE_BAG_L2': 'StackerEnsembleModel_XT',\n",
              "  'NeuralNetFastAI_BAG_L2': 'StackerEnsembleModel_NNFastAiTabular',\n",
              "  'WeightedEnsemble_L3': 'WeightedEnsembleModel'},\n",
              " 'model_performance': {'KNeighborsUnif_BAG_L1': -165.14207054922935,\n",
              "  'KNeighborsDist_BAG_L1': -179.4216148241622,\n",
              "  'LightGBMXT_BAG_L1': -38.10129982378018,\n",
              "  'LightGBM_BAG_L1': -39.214483746028414,\n",
              "  'RandomForestMSE_BAG_L1': -42.330255311349276,\n",
              "  'CatBoost_BAG_L1': -41.45084984548861,\n",
              "  'ExtraTreesMSE_BAG_L1': -41.15232628134912,\n",
              "  'NeuralNetFastAI_BAG_L1': -42.2264367595554,\n",
              "  'WeightedEnsemble_L2': -37.18884973516758,\n",
              "  'LightGBMXT_BAG_L2': -38.36103427246087,\n",
              "  'LightGBM_BAG_L2': -37.73304128846403,\n",
              "  'RandomForestMSE_BAG_L2': -37.919016482409745,\n",
              "  'CatBoost_BAG_L2': -37.51688541241934,\n",
              "  'ExtraTreesMSE_BAG_L2': -37.214362939743076,\n",
              "  'NeuralNetFastAI_BAG_L2': -37.966109543879355,\n",
              "  'WeightedEnsemble_L3': -37.03503045540894},\n",
              " 'model_best': 'WeightedEnsemble_L3',\n",
              " 'model_paths': {'KNeighborsUnif_BAG_L1': 'AutogluonModels/ag-20220928_165020/models/KNeighborsUnif_BAG_L1/',\n",
              "  'KNeighborsDist_BAG_L1': 'AutogluonModels/ag-20220928_165020/models/KNeighborsDist_BAG_L1/',\n",
              "  'LightGBMXT_BAG_L1': 'AutogluonModels/ag-20220928_165020/models/LightGBMXT_BAG_L1/',\n",
              "  'LightGBM_BAG_L1': 'AutogluonModels/ag-20220928_165020/models/LightGBM_BAG_L1/',\n",
              "  'RandomForestMSE_BAG_L1': 'AutogluonModels/ag-20220928_165020/models/RandomForestMSE_BAG_L1/',\n",
              "  'CatBoost_BAG_L1': 'AutogluonModels/ag-20220928_165020/models/CatBoost_BAG_L1/',\n",
              "  'ExtraTreesMSE_BAG_L1': 'AutogluonModels/ag-20220928_165020/models/ExtraTreesMSE_BAG_L1/',\n",
              "  'NeuralNetFastAI_BAG_L1': 'AutogluonModels/ag-20220928_165020/models/NeuralNetFastAI_BAG_L1/',\n",
              "  'WeightedEnsemble_L2': 'AutogluonModels/ag-20220928_165020/models/WeightedEnsemble_L2/',\n",
              "  'LightGBMXT_BAG_L2': 'AutogluonModels/ag-20220928_165020/models/LightGBMXT_BAG_L2/',\n",
              "  'LightGBM_BAG_L2': 'AutogluonModels/ag-20220928_165020/models/LightGBM_BAG_L2/',\n",
              "  'RandomForestMSE_BAG_L2': 'AutogluonModels/ag-20220928_165020/models/RandomForestMSE_BAG_L2/',\n",
              "  'CatBoost_BAG_L2': 'AutogluonModels/ag-20220928_165020/models/CatBoost_BAG_L2/',\n",
              "  'ExtraTreesMSE_BAG_L2': 'AutogluonModels/ag-20220928_165020/models/ExtraTreesMSE_BAG_L2/',\n",
              "  'NeuralNetFastAI_BAG_L2': 'AutogluonModels/ag-20220928_165020/models/NeuralNetFastAI_BAG_L2/',\n",
              "  'WeightedEnsemble_L3': 'AutogluonModels/ag-20220928_165020/models/WeightedEnsemble_L3/'},\n",
              " 'model_fit_times': {'KNeighborsUnif_BAG_L1': 0.03135347366333008,\n",
              "  'KNeighborsDist_BAG_L1': 0.014895915985107422,\n",
              "  'LightGBMXT_BAG_L1': 42.9312481880188,\n",
              "  'LightGBM_BAG_L1': 26.21032691001892,\n",
              "  'RandomForestMSE_BAG_L1': 7.819612264633179,\n",
              "  'CatBoost_BAG_L1': 266.74846053123474,\n",
              "  'ExtraTreesMSE_BAG_L1': 7.704840660095215,\n",
              "  'NeuralNetFastAI_BAG_L1': 43.42942523956299,\n",
              "  'WeightedEnsemble_L2': 0.5598607063293457,\n",
              "  'LightGBMXT_BAG_L2': 17.82934021949768,\n",
              "  'LightGBM_BAG_L2': 16.530149459838867,\n",
              "  'RandomForestMSE_BAG_L2': 24.1776602268219,\n",
              "  'CatBoost_BAG_L2': 86.14279270172119,\n",
              "  'ExtraTreesMSE_BAG_L2': 11.253965139389038,\n",
              "  'NeuralNetFastAI_BAG_L2': 34.00317645072937,\n",
              "  'WeightedEnsemble_L3': 0.4292774200439453},\n",
              " 'model_pred_times': {'KNeighborsUnif_BAG_L1': 0.1032094955444336,\n",
              "  'KNeighborsDist_BAG_L1': 0.104461669921875,\n",
              "  'LightGBMXT_BAG_L1': 4.352234125137329,\n",
              "  'LightGBM_BAG_L1': 1.8712847232818604,\n",
              "  'RandomForestMSE_BAG_L1': 0.5490529537200928,\n",
              "  'CatBoost_BAG_L1': 0.6477375030517578,\n",
              "  'ExtraTreesMSE_BAG_L1': 0.7396485805511475,\n",
              "  'NeuralNetFastAI_BAG_L1': 0.37313365936279297,\n",
              "  'WeightedEnsemble_L2': 0.0010561943054199219,\n",
              "  'LightGBMXT_BAG_L2': 0.2895669937133789,\n",
              "  'LightGBM_BAG_L2': 0.13093209266662598,\n",
              "  'RandomForestMSE_BAG_L2': 0.6189103126525879,\n",
              "  'CatBoost_BAG_L2': 0.14492106437683105,\n",
              "  'ExtraTreesMSE_BAG_L2': 0.8269727230072021,\n",
              "  'NeuralNetFastAI_BAG_L2': 0.4256143569946289,\n",
              "  'WeightedEnsemble_L3': 0.0011496543884277344},\n",
              " 'num_bag_folds': 8,\n",
              " 'max_stack_level': 3,\n",
              " 'model_hyperparams': {'KNeighborsUnif_BAG_L1': {'use_orig_features': True,\n",
              "   'max_base_models': 25,\n",
              "   'max_base_models_per_type': 5,\n",
              "   'save_bag_folds': True,\n",
              "   'use_child_oof': True},\n",
              "  'KNeighborsDist_BAG_L1': {'use_orig_features': True,\n",
              "   'max_base_models': 25,\n",
              "   'max_base_models_per_type': 5,\n",
              "   'save_bag_folds': True,\n",
              "   'use_child_oof': True},\n",
              "  'LightGBMXT_BAG_L1': {'use_orig_features': True,\n",
              "   'max_base_models': 25,\n",
              "   'max_base_models_per_type': 5,\n",
              "   'save_bag_folds': True},\n",
              "  'LightGBM_BAG_L1': {'use_orig_features': True,\n",
              "   'max_base_models': 25,\n",
              "   'max_base_models_per_type': 5,\n",
              "   'save_bag_folds': True},\n",
              "  'RandomForestMSE_BAG_L1': {'use_orig_features': True,\n",
              "   'max_base_models': 25,\n",
              "   'max_base_models_per_type': 5,\n",
              "   'save_bag_folds': True,\n",
              "   'use_child_oof': True},\n",
              "  'CatBoost_BAG_L1': {'use_orig_features': True,\n",
              "   'max_base_models': 25,\n",
              "   'max_base_models_per_type': 5,\n",
              "   'save_bag_folds': True},\n",
              "  'ExtraTreesMSE_BAG_L1': {'use_orig_features': True,\n",
              "   'max_base_models': 25,\n",
              "   'max_base_models_per_type': 5,\n",
              "   'save_bag_folds': True,\n",
              "   'use_child_oof': True},\n",
              "  'NeuralNetFastAI_BAG_L1': {'use_orig_features': True,\n",
              "   'max_base_models': 25,\n",
              "   'max_base_models_per_type': 5,\n",
              "   'save_bag_folds': True},\n",
              "  'WeightedEnsemble_L2': {'use_orig_features': False,\n",
              "   'max_base_models': 25,\n",
              "   'max_base_models_per_type': 5,\n",
              "   'save_bag_folds': True},\n",
              "  'LightGBMXT_BAG_L2': {'use_orig_features': True,\n",
              "   'max_base_models': 25,\n",
              "   'max_base_models_per_type': 5,\n",
              "   'save_bag_folds': True},\n",
              "  'LightGBM_BAG_L2': {'use_orig_features': True,\n",
              "   'max_base_models': 25,\n",
              "   'max_base_models_per_type': 5,\n",
              "   'save_bag_folds': True},\n",
              "  'RandomForestMSE_BAG_L2': {'use_orig_features': True,\n",
              "   'max_base_models': 25,\n",
              "   'max_base_models_per_type': 5,\n",
              "   'save_bag_folds': True,\n",
              "   'use_child_oof': True},\n",
              "  'CatBoost_BAG_L2': {'use_orig_features': True,\n",
              "   'max_base_models': 25,\n",
              "   'max_base_models_per_type': 5,\n",
              "   'save_bag_folds': True},\n",
              "  'ExtraTreesMSE_BAG_L2': {'use_orig_features': True,\n",
              "   'max_base_models': 25,\n",
              "   'max_base_models_per_type': 5,\n",
              "   'save_bag_folds': True,\n",
              "   'use_child_oof': True},\n",
              "  'NeuralNetFastAI_BAG_L2': {'use_orig_features': True,\n",
              "   'max_base_models': 25,\n",
              "   'max_base_models_per_type': 5,\n",
              "   'save_bag_folds': True},\n",
              "  'WeightedEnsemble_L3': {'use_orig_features': False,\n",
              "   'max_base_models': 25,\n",
              "   'max_base_models_per_type': 5,\n",
              "   'save_bag_folds': True}},\n",
              " 'leaderboard':                      model   score_val  pred_time_val    fit_time  \\\n",
              " 0      WeightedEnsemble_L3  -37.035030      10.270353  543.249524   \n",
              " 1      WeightedEnsemble_L2  -37.188850       8.534148  395.403774   \n",
              " 2     ExtraTreesMSE_BAG_L2  -37.214363       9.567735  406.144128   \n",
              " 3          CatBoost_BAG_L2  -37.516885       8.885684  481.032956   \n",
              " 4          LightGBM_BAG_L2  -37.733041       8.871695  411.420313   \n",
              " 5   RandomForestMSE_BAG_L2  -37.919016       9.359673  419.067823   \n",
              " 6   NeuralNetFastAI_BAG_L2  -37.966110       9.166377  428.893340   \n",
              " 7        LightGBMXT_BAG_L1  -38.101300       4.352234   42.931248   \n",
              " 8        LightGBMXT_BAG_L2  -38.361034       9.030330  412.719503   \n",
              " 9          LightGBM_BAG_L1  -39.214484       1.871285   26.210327   \n",
              " 10    ExtraTreesMSE_BAG_L1  -41.152326       0.739649    7.704841   \n",
              " 11         CatBoost_BAG_L1  -41.450850       0.647738  266.748461   \n",
              " 12  NeuralNetFastAI_BAG_L1  -42.226437       0.373134   43.429425   \n",
              " 13  RandomForestMSE_BAG_L1  -42.330255       0.549053    7.819612   \n",
              " 14   KNeighborsUnif_BAG_L1 -165.142071       0.103209    0.031353   \n",
              " 15   KNeighborsDist_BAG_L1 -179.421615       0.104462    0.014896   \n",
              " \n",
              "     pred_time_val_marginal  fit_time_marginal  stack_level  can_infer  \\\n",
              " 0                 0.001150           0.429277            3       True   \n",
              " 1                 0.001056           0.559861            2       True   \n",
              " 2                 0.826973          11.253965            2       True   \n",
              " 3                 0.144921          86.142793            2       True   \n",
              " 4                 0.130932          16.530149            2       True   \n",
              " 5                 0.618910          24.177660            2       True   \n",
              " 6                 0.425614          34.003176            2       True   \n",
              " 7                 4.352234          42.931248            1       True   \n",
              " 8                 0.289567          17.829340            2       True   \n",
              " 9                 1.871285          26.210327            1       True   \n",
              " 10                0.739649           7.704841            1       True   \n",
              " 11                0.647738         266.748461            1       True   \n",
              " 12                0.373134          43.429425            1       True   \n",
              " 13                0.549053           7.819612            1       True   \n",
              " 14                0.103209           0.031353            1       True   \n",
              " 15                0.104462           0.014896            1       True   \n",
              " \n",
              "     fit_order  \n",
              " 0          16  \n",
              " 1           9  \n",
              " 2          14  \n",
              " 3          13  \n",
              " 4          11  \n",
              " 5          12  \n",
              " 6          15  \n",
              " 7           3  \n",
              " 8          10  \n",
              " 9           4  \n",
              " 10          7  \n",
              " 11          6  \n",
              " 12          8  \n",
              " 13          5  \n",
              " 14          1  \n",
              " 15          2  }"
            ]
          },
          "metadata": {},
          "execution_count": 44
        }
      ],
      "source": [
        "predictor_new_features.fit_summary()"
      ]
    },
    {
      "cell_type": "code",
      "source": [
        "predictor_new_features.leaderboard(silent=True).plot(kind= \"bar\", x = \"model\" , y = \"score_val\" ,color ='pink')"
      ],
      "metadata": {
        "id": "9XfBOc1PqyUR",
        "colab": {
          "base_uri": "https://localhost:8080/",
          "height": 284
        },
        "outputId": "a7816e4e-b920-4d71-e5e6-0def103df389"
      },
      "execution_count": null,
      "outputs": [
        {
          "output_type": "error",
          "ename": "AttributeError",
          "evalue": "ignored",
          "traceback": [
            "\u001b[0;31m---------------------------------------------------------------------------\u001b[0m",
            "\u001b[0;31mAttributeError\u001b[0m                            Traceback (most recent call last)",
            "\u001b[0;32m<ipython-input-53-2fc448b55d16>\u001b[0m in \u001b[0;36m<module>\u001b[0;34m\u001b[0m\n\u001b[0;32m----> 1\u001b[0;31m \u001b[0mpredictor_new_features\u001b[0m\u001b[0;34m.\u001b[0m\u001b[0mleaderboard\u001b[0m\u001b[0;34m(\u001b[0m\u001b[0msilent\u001b[0m\u001b[0;34m=\u001b[0m\u001b[0;32mTrue\u001b[0m\u001b[0;34m)\u001b[0m\u001b[0;34m.\u001b[0m\u001b[0mplot\u001b[0m\u001b[0;34m(\u001b[0m\u001b[0mkind\u001b[0m\u001b[0;34m=\u001b[0m \u001b[0;34m\"bar\"\u001b[0m\u001b[0;34m,\u001b[0m \u001b[0mx\u001b[0m \u001b[0;34m=\u001b[0m \u001b[0;34m\"model\"\u001b[0m \u001b[0;34m,\u001b[0m \u001b[0my\u001b[0m \u001b[0;34m=\u001b[0m \u001b[0;34m\"score_val\"\u001b[0m \u001b[0;34m,\u001b[0m\u001b[0mcolor\u001b[0m \u001b[0;34m=\u001b[0m\u001b[0;34m'pink'\u001b[0m\u001b[0;34m)\u001b[0m\u001b[0;34m\u001b[0m\u001b[0;34m\u001b[0m\u001b[0m\n\u001b[0m",
            "\u001b[0;32m/usr/local/lib/python3.7/dist-packages/pandas/core/generic.py\u001b[0m in \u001b[0;36m__getattr__\u001b[0;34m(self, name)\u001b[0m\n\u001b[1;32m   5485\u001b[0m         ):\n\u001b[1;32m   5486\u001b[0m             \u001b[0;32mreturn\u001b[0m \u001b[0mself\u001b[0m\u001b[0;34m[\u001b[0m\u001b[0mname\u001b[0m\u001b[0;34m]\u001b[0m\u001b[0;34m\u001b[0m\u001b[0;34m\u001b[0m\u001b[0m\n\u001b[0;32m-> 5487\u001b[0;31m         \u001b[0;32mreturn\u001b[0m \u001b[0mobject\u001b[0m\u001b[0;34m.\u001b[0m\u001b[0m__getattribute__\u001b[0m\u001b[0;34m(\u001b[0m\u001b[0mself\u001b[0m\u001b[0;34m,\u001b[0m \u001b[0mname\u001b[0m\u001b[0;34m)\u001b[0m\u001b[0;34m\u001b[0m\u001b[0;34m\u001b[0m\u001b[0m\n\u001b[0m\u001b[1;32m   5488\u001b[0m \u001b[0;34m\u001b[0m\u001b[0m\n\u001b[1;32m   5489\u001b[0m     \u001b[0;32mdef\u001b[0m \u001b[0m__setattr__\u001b[0m\u001b[0;34m(\u001b[0m\u001b[0mself\u001b[0m\u001b[0;34m,\u001b[0m \u001b[0mname\u001b[0m\u001b[0;34m:\u001b[0m \u001b[0mstr\u001b[0m\u001b[0;34m,\u001b[0m \u001b[0mvalue\u001b[0m\u001b[0;34m)\u001b[0m \u001b[0;34m->\u001b[0m \u001b[0;32mNone\u001b[0m\u001b[0;34m:\u001b[0m\u001b[0;34m\u001b[0m\u001b[0;34m\u001b[0m\u001b[0m\n",
            "\u001b[0;31mAttributeError\u001b[0m: 'Series' object has no attribute 'leaderboard'"
          ]
        }
      ]
    },
    {
      "cell_type": "code",
      "source": [
        "predictor_new_features = predictor_new_features.predict(test)\n",
        "predictor.head()"
      ],
      "metadata": {
        "id": "P2k0HllDqm_w",
        "colab": {
          "base_uri": "https://localhost:8080/"
        },
        "outputId": "ed9dea25-3835-4eb0-fdeb-01ae4e55cbb2"
      },
      "execution_count": null,
      "outputs": [
        {
          "output_type": "execute_result",
          "data": {
            "text/plain": [
              "0    10.924042\n",
              "1     4.622432\n",
              "2     3.674049\n",
              "3     3.049295\n",
              "4     2.848367\n",
              "Name: count, dtype: float32"
            ]
          },
          "metadata": {},
          "execution_count": 45
        }
      ]
    },
    {
      "cell_type": "code",
      "source": [
        "predictor.describe()"
      ],
      "metadata": {
        "id": "E8Y2rn0mDrfN",
        "outputId": "b8f9d8f0-6eeb-49e6-b3b7-8852f78ded7f",
        "colab": {
          "base_uri": "https://localhost:8080/"
        }
      },
      "execution_count": null,
      "outputs": [
        {
          "output_type": "execute_result",
          "data": {
            "text/plain": [
              "count    6493.000000\n",
              "mean      189.793350\n",
              "std       174.846970\n",
              "min         0.960622\n",
              "25%        46.584290\n",
              "50%       146.375671\n",
              "75%       285.276520\n",
              "max       898.307983\n",
              "Name: count, dtype: float64"
            ]
          },
          "metadata": {},
          "execution_count": 47
        }
      ]
    },
    {
      "cell_type": "code",
      "execution_count": null,
      "metadata": {
        "id": "f_rlIYK-C4Yd"
      },
      "outputs": [],
      "source": [
        "# Remember to set all negative values to zero\n",
        "predictor_new_features = predictor.clip(lower=0)"
      ]
    },
    {
      "cell_type": "code",
      "execution_count": null,
      "metadata": {
        "id": "epX3fsk-C4Yd",
        "colab": {
          "base_uri": "https://localhost:8080/",
          "height": 250
        },
        "outputId": "694f9178-079f-4e78-f445-7fde1689f36c"
      },
      "outputs": [
        {
          "output_type": "error",
          "ename": "NameError",
          "evalue": "ignored",
          "traceback": [
            "\u001b[0;31m---------------------------------------------------------------------------\u001b[0m",
            "\u001b[0;31mNameError\u001b[0m                                 Traceback (most recent call last)",
            "\u001b[0;32m<ipython-input-52-02500c8ebe67>\u001b[0m in \u001b[0;36m<module>\u001b[0;34m\u001b[0m\n\u001b[1;32m      1\u001b[0m \u001b[0;31m# Same submitting predictions\u001b[0m\u001b[0;34m\u001b[0m\u001b[0;34m\u001b[0m\u001b[0;34m\u001b[0m\u001b[0m\n\u001b[0;32m----> 2\u001b[0;31m \u001b[0msubmission_new_features\u001b[0m\u001b[0;34m[\u001b[0m\u001b[0;34m\"count\"\u001b[0m\u001b[0;34m]\u001b[0m \u001b[0;34m=\u001b[0m  \u001b[0mpredictor_new_features\u001b[0m\u001b[0;34m\u001b[0m\u001b[0;34m\u001b[0m\u001b[0m\n\u001b[0m\u001b[1;32m      3\u001b[0m \u001b[0msubmission_new_features\u001b[0m\u001b[0;34m[\u001b[0m\u001b[0;34m\"count\"\u001b[0m\u001b[0;34m]\u001b[0m \u001b[0;34m=\u001b[0m  \u001b[0msubmission_new_features\u001b[0m\u001b[0;34m[\u001b[0m\u001b[0;34m\"count\"\u001b[0m\u001b[0;34m]\u001b[0m\u001b[0;34m.\u001b[0m\u001b[0mapply\u001b[0m\u001b[0;34m(\u001b[0m\u001b[0;32mlambda\u001b[0m \u001b[0mx\u001b[0m \u001b[0;34m:\u001b[0m \u001b[0mround\u001b[0m\u001b[0;34m(\u001b[0m\u001b[0mx\u001b[0m\u001b[0;34m)\u001b[0m\u001b[0;34m)\u001b[0m\u001b[0;34m\u001b[0m\u001b[0;34m\u001b[0m\u001b[0m\n\u001b[1;32m      4\u001b[0m \u001b[0;34m\u001b[0m\u001b[0m\n\u001b[1;32m      5\u001b[0m \u001b[0msubmission_new_features\u001b[0m\u001b[0;34m.\u001b[0m\u001b[0mto_csv\u001b[0m\u001b[0;34m(\u001b[0m\u001b[0;34m\"submission_new_features.csv\"\u001b[0m\u001b[0;34m,\u001b[0m \u001b[0mindex\u001b[0m\u001b[0;34m=\u001b[0m\u001b[0;32mFalse\u001b[0m\u001b[0;34m)\u001b[0m\u001b[0;34m\u001b[0m\u001b[0;34m\u001b[0m\u001b[0m\n",
            "\u001b[0;31mNameError\u001b[0m: name 'submission_new_features' is not defined"
          ]
        }
      ],
      "source": [
        "# Same submitting predictions\n",
        "submission_new_features[\"count\"] =  predictor_new_features\n",
        "submission_new_features[\"count\"] =  submission_new_features[\"count\"].apply(lambda x : round(x))\n",
        "\n",
        "submission_new_features.to_csv(\"submission_new_features.csv\", index=False)"
      ]
    },
    {
      "cell_type": "code",
      "execution_count": null,
      "metadata": {
        "id": "OoEnt70CC4Yd"
      },
      "outputs": [],
      "source": [
        "!kaggle competitions submit -c bike-sharing-demand -f submission_new_features.csv -m \"new features\""
      ]
    },
    {
      "cell_type": "code",
      "execution_count": null,
      "metadata": {
        "id": "3RAy6gplC4Yd"
      },
      "outputs": [],
      "source": [
        "!kaggle competitions submissions -c bike-sharing-demand | tail -n +1 | head -n 6"
      ]
    },
    {
      "cell_type": "markdown",
      "metadata": {
        "id": "L71SS1jAC4Yd"
      },
      "source": [
        "#### New Score of 0.457"
      ]
    },
    {
      "cell_type": "markdown",
      "metadata": {
        "id": "epjidw9-C4Yd"
      },
      "source": [
        "## Step 6: Hyper parameter optimization\n",
        "* There are many options for hyper parameter optimization.\n",
        "* Options are to change the AutoGluon higher level parameters or the individual model hyperparameters.\n",
        "* The hyperparameters of the models themselves that are in AutoGluon. Those need the `hyperparameter` and `hyperparameter_tune_kwargs` arguments."
      ]
    },
    {
      "cell_type": "code",
      "execution_count": null,
      "metadata": {
        "id": "qS1aycxCC4Yt"
      },
      "outputs": [],
      "source": [
        "predictor_new_hpo = TabularPredictor(?).fit(?)"
      ]
    },
    {
      "cell_type": "code",
      "execution_count": null,
      "metadata": {
        "id": "CZ8dBCCTC4Yt"
      },
      "outputs": [],
      "source": [
        "predictor_new_hpo.fit_summary()"
      ]
    },
    {
      "cell_type": "code",
      "execution_count": null,
      "metadata": {
        "id": "Pn0IB02kC4Yt"
      },
      "outputs": [],
      "source": [
        "# Remember to set all negative values to zero\n",
        "predictor_new_hpo = predictor.clip(lower=0)"
      ]
    },
    {
      "cell_type": "code",
      "execution_count": null,
      "metadata": {
        "id": "1MdFP5aCC4Yt"
      },
      "outputs": [],
      "source": [
        "# Same submitting predictions\n",
        "submission_new_hpo[\"count\"] = predictor_new_hpo\n",
        "submission_new_hpo.to_csv(\"submission_new_hpo.csv\", index=False)"
      ]
    },
    {
      "cell_type": "code",
      "execution_count": null,
      "metadata": {
        "id": "URNBaW9WC4Yt"
      },
      "outputs": [],
      "source": [
        "!kaggle competitions submit -c bike-sharing-demand -f submission_new_hpo.csv -m \"new features with hyperparameters\""
      ]
    },
    {
      "cell_type": "code",
      "execution_count": null,
      "metadata": {
        "id": "sBrCpnECC4Yt"
      },
      "outputs": [],
      "source": [
        "!kaggle competitions submissions -c bike-sharing-demand | tail -n +1 | head -n 6"
      ]
    },
    {
      "cell_type": "markdown",
      "metadata": {
        "id": "3wjGsiPVC4Yt"
      },
      "source": [
        "#### New Score of `?`"
      ]
    },
    {
      "cell_type": "markdown",
      "metadata": {
        "id": "v-nbSLx8C4Yt"
      },
      "source": [
        "## Step 7: Write a Report\n",
        "### Refer to the markdown file for the full report\n",
        "### Creating plots and table for report"
      ]
    },
    {
      "cell_type": "code",
      "execution_count": null,
      "metadata": {
        "jupyter": {
          "source_hidden": true
        },
        "id": "Zd0WEduVC4Yt"
      },
      "outputs": [],
      "source": [
        "# Taking the top model score from each training run and creating a line plot to show improvement\n",
        "# You can create these in the notebook and save them to PNG or use some other tool (e.g. google sheets, excel)\n",
        "fig = pd.DataFrame(\n",
        "    {\n",
        "        \"model\": [\"initial\", \"add_features\", \"hpo\"],\n",
        "        \"score\": [?, ?, ?]\n",
        "    }\n",
        ").plot(x=\"model\", y=\"score\", figsize=(8, 6)).get_figure()\n",
        "fig.savefig('model_train_score.png')"
      ]
    },
    {
      "cell_type": "code",
      "execution_count": null,
      "metadata": {
        "id": "wlfjlz0yC4Yt"
      },
      "outputs": [],
      "source": [
        "# Take the 3 kaggle scores and creating a line plot to show improvement\n",
        "fig = pd.DataFrame(\n",
        "    {\n",
        "        \"test_eval\": [\"initial\", \"add_features\", \"hpo\"],\n",
        "        \"score\": [?, ?, ?]\n",
        "    }\n",
        ").plot(x=\"test_eval\", y=\"score\", figsize=(8, 6)).get_figure()\n",
        "fig.savefig('model_test_score.png')"
      ]
    },
    {
      "cell_type": "markdown",
      "metadata": {
        "id": "omo8mhKiC4Yt"
      },
      "source": [
        "### Hyperparameter table"
      ]
    },
    {
      "cell_type": "code",
      "execution_count": null,
      "metadata": {
        "id": "zvpjOci5C4Yt"
      },
      "outputs": [],
      "source": [
        "# The 3 hyperparameters we tuned with the kaggle score as the result\n",
        "pd.DataFrame({\n",
        "    \"model\": [\"initial\", \"add_features\", \"hpo\"],\n",
        "    \"hpo1\": [?, ?, ?],\n",
        "    \"hpo2\": [?, ?, ?],\n",
        "    \"hpo3\": [?, ?, ?],\n",
        "    \"score\": [?, ?, ?]\n",
        "})"
      ]
    }
  ]
}